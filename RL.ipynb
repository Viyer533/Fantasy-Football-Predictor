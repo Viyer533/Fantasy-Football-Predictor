{
 "cells": [
  {
   "cell_type": "code",
   "execution_count": 182,
   "id": "a83c6802",
   "metadata": {},
   "outputs": [],
   "source": [
    "from bs4 import BeautifulSoup\n",
    "import requests\n",
    "import pandas as pd\n",
    "import itertools"
   ]
  },
  {
   "cell_type": "code",
   "execution_count": 183,
   "id": "7f8b7752",
   "metadata": {},
   "outputs": [],
   "source": [
    "url = \"https://www.fantasynutmeg.com/api/history/season/2016-17\""
   ]
  },
  {
   "cell_type": "code",
   "execution_count": 184,
   "id": "e81ae4e5",
   "metadata": {},
   "outputs": [],
   "source": [
    "data = requests.get(url)"
   ]
  },
  {
   "cell_type": "code",
   "execution_count": 185,
   "id": "290a2f65",
   "metadata": {},
   "outputs": [],
   "source": [
    "hist = data.json()['history']"
   ]
  },
  {
   "cell_type": "code",
   "execution_count": 186,
   "id": "ee473d6a",
   "metadata": {},
   "outputs": [],
   "source": [
    "df = pd.DataFrame(columns=['Name','ID','Position'])"
   ]
  },
  {
   "cell_type": "code",
   "execution_count": 187,
   "id": "d9360032",
   "metadata": {},
   "outputs": [],
   "source": [
    "for i in range(len(hist)):\n",
    "    name = hist[i]['first_name']+\" \"+hist[i]['second_name']\n",
    "    id_ = hist[i]['id']\n",
    "    pos = hist[i]['position']\n",
    "    df.loc[i] = [name,id_,pos]"
   ]
  },
  {
   "cell_type": "code",
   "execution_count": 188,
   "id": "5920e421",
   "metadata": {},
   "outputs": [],
   "source": [
    "players = [\"Alexis Sánchez\",\"Gary Cahill\",\"César Azpilicueta\",\"Eden Hazard\",\"Diego Da Silva Costa\",\"Leighton Baines\",\"Harry Kane\",\"Romelu Lukaku\",\"Sergio Agüero\",\"Zlatan Ibrahimovic\",\"Bamidele Alli\",\"Christian Eriksen\",\"Kevin De Bruyne\",\"Kyle Walker\",\"Marcos Alonso\"]\n",
    "df = df[df['Name'].isin(players)]"
   ]
  },
  {
   "cell_type": "code",
   "execution_count": 189,
   "id": "4cef4376",
   "metadata": {},
   "outputs": [
    {
     "data": {
      "text/html": [
       "<div>\n",
       "<style scoped>\n",
       "    .dataframe tbody tr th:only-of-type {\n",
       "        vertical-align: middle;\n",
       "    }\n",
       "\n",
       "    .dataframe tbody tr th {\n",
       "        vertical-align: top;\n",
       "    }\n",
       "\n",
       "    .dataframe thead th {\n",
       "        text-align: right;\n",
       "    }\n",
       "</style>\n",
       "<table border=\"1\" class=\"dataframe\">\n",
       "  <thead>\n",
       "    <tr style=\"text-align: right;\">\n",
       "      <th></th>\n",
       "      <th>Name</th>\n",
       "      <th>ID</th>\n",
       "      <th>Position</th>\n",
       "    </tr>\n",
       "  </thead>\n",
       "  <tbody>\n",
       "    <tr>\n",
       "      <th>11</th>\n",
       "      <td>Alexis Sánchez</td>\n",
       "      <td>12</td>\n",
       "      <td>MID</td>\n",
       "    </tr>\n",
       "    <tr>\n",
       "      <th>76</th>\n",
       "      <td>César Azpilicueta</td>\n",
       "      <td>77</td>\n",
       "      <td>DEF</td>\n",
       "    </tr>\n",
       "    <tr>\n",
       "      <th>77</th>\n",
       "      <td>Gary Cahill</td>\n",
       "      <td>78</td>\n",
       "      <td>DEF</td>\n",
       "    </tr>\n",
       "    <tr>\n",
       "      <th>81</th>\n",
       "      <td>Eden Hazard</td>\n",
       "      <td>82</td>\n",
       "      <td>MID</td>\n",
       "    </tr>\n",
       "    <tr>\n",
       "      <th>96</th>\n",
       "      <td>Diego Da Silva Costa</td>\n",
       "      <td>97</td>\n",
       "      <td>FWD</td>\n",
       "    </tr>\n",
       "    <tr>\n",
       "      <th>124</th>\n",
       "      <td>Leighton Baines</td>\n",
       "      <td>125</td>\n",
       "      <td>DEF</td>\n",
       "    </tr>\n",
       "    <tr>\n",
       "      <th>142</th>\n",
       "      <td>Romelu Lukaku</td>\n",
       "      <td>143</td>\n",
       "      <td>FWD</td>\n",
       "    </tr>\n",
       "    <tr>\n",
       "      <th>234</th>\n",
       "      <td>Kevin De Bruyne</td>\n",
       "      <td>235</td>\n",
       "      <td>MID</td>\n",
       "    </tr>\n",
       "    <tr>\n",
       "      <th>238</th>\n",
       "      <td>Sergio Agüero</td>\n",
       "      <td>239</td>\n",
       "      <td>FWD</td>\n",
       "    </tr>\n",
       "    <tr>\n",
       "      <th>271</th>\n",
       "      <td>Zlatan Ibrahimovic</td>\n",
       "      <td>272</td>\n",
       "      <td>FWD</td>\n",
       "    </tr>\n",
       "    <tr>\n",
       "      <th>383</th>\n",
       "      <td>Kyle Walker</td>\n",
       "      <td>384</td>\n",
       "      <td>DEF</td>\n",
       "    </tr>\n",
       "    <tr>\n",
       "      <th>393</th>\n",
       "      <td>Christian Eriksen</td>\n",
       "      <td>394</td>\n",
       "      <td>MID</td>\n",
       "    </tr>\n",
       "    <tr>\n",
       "      <th>397</th>\n",
       "      <td>Bamidele Alli</td>\n",
       "      <td>398</td>\n",
       "      <td>MID</td>\n",
       "    </tr>\n",
       "    <tr>\n",
       "      <th>402</th>\n",
       "      <td>Harry Kane</td>\n",
       "      <td>403</td>\n",
       "      <td>FWD</td>\n",
       "    </tr>\n",
       "    <tr>\n",
       "      <th>560</th>\n",
       "      <td>Marcos Alonso</td>\n",
       "      <td>561</td>\n",
       "      <td>DEF</td>\n",
       "    </tr>\n",
       "  </tbody>\n",
       "</table>\n",
       "</div>"
      ],
      "text/plain": [
       "                     Name   ID Position\n",
       "11         Alexis Sánchez   12      MID\n",
       "76      César Azpilicueta   77      DEF\n",
       "77            Gary Cahill   78      DEF\n",
       "81            Eden Hazard   82      MID\n",
       "96   Diego Da Silva Costa   97      FWD\n",
       "124       Leighton Baines  125      DEF\n",
       "142         Romelu Lukaku  143      FWD\n",
       "234       Kevin De Bruyne  235      MID\n",
       "238         Sergio Agüero  239      FWD\n",
       "271    Zlatan Ibrahimovic  272      FWD\n",
       "383           Kyle Walker  384      DEF\n",
       "393     Christian Eriksen  394      MID\n",
       "397         Bamidele Alli  398      MID\n",
       "402            Harry Kane  403      FWD\n",
       "560         Marcos Alonso  561      DEF"
      ]
     },
     "execution_count": 189,
     "metadata": {},
     "output_type": "execute_result"
    }
   ],
   "source": [
    "df"
   ]
  },
  {
   "cell_type": "markdown",
   "id": "a551fdeb",
   "metadata": {},
   "source": [
    "Top 5 players by position for the season(16-17)\n",
    "\n",
    "Kane, Lukaku, Costa, Aguero, Ibrahimovic  \n",
    "Sanchez, Alli, Hazard, Erikson, De Bruyne  \n",
    "Cahill, Alonso, Azpi, Walker, Baines  \n",
    "Heaton, Lloris, Courtois, de Gea, Cech"
   ]
  },
  {
   "cell_type": "markdown",
   "id": "ac4b3595",
   "metadata": {},
   "source": [
    "Sanchez: https://www.fantasynutmeg.com/api/history/season/2016-17?player=12  \n",
    "403, 143, 97, 239, 272  \n",
    "12, 398, 82, 394, 235  \n",
    "78, 561, 77, 384, 125"
   ]
  },
  {
   "cell_type": "code",
   "execution_count": 190,
   "id": "73bd640e",
   "metadata": {},
   "outputs": [],
   "source": [
    "player_stats = {}"
   ]
  },
  {
   "cell_type": "code",
   "execution_count": 191,
   "id": "7d35de21",
   "metadata": {},
   "outputs": [],
   "source": [
    "data = requests.get(\"https://www.fantasynutmeg.com/api/history/season/2016-17?player=12\")"
   ]
  },
  {
   "cell_type": "code",
   "execution_count": 192,
   "id": "c3770a8a",
   "metadata": {},
   "outputs": [
    {
     "data": {
      "text/plain": [
       "{'assists': 0,\n",
       " 'attempted_passes': 17,\n",
       " 'big_chances_created': 0,\n",
       " 'big_chances_missed': 0,\n",
       " 'bonus': 0,\n",
       " 'bps': 0,\n",
       " 'clean_sheets': 0,\n",
       " 'clearances_blocks_interceptions': 0,\n",
       " 'completed_passes': 12,\n",
       " 'creativity': 15.3,\n",
       " 'dribbles': 1,\n",
       " 'ea_index': 0,\n",
       " 'element': 12,\n",
       " 'errors_leading_to_goal': 0,\n",
       " 'errors_leading_to_goal_attempt': 0,\n",
       " 'fixture': 8,\n",
       " 'fouls': 0,\n",
       " 'goals_conceded': 4,\n",
       " 'goals_scored': 0,\n",
       " 'ict_index': 3.5,\n",
       " 'id': 12,\n",
       " 'influence': 5.4,\n",
       " 'key_passes': 1,\n",
       " 'kickoff_time': '2016-08-14T15:00:00Z',\n",
       " 'kickoff_time_formatted': '14 Aug 16:00',\n",
       " 'loaned_in': 0,\n",
       " 'loaned_out': 0,\n",
       " 'minutes': 90,\n",
       " 'offside': 4,\n",
       " 'open_play_crosses': 0,\n",
       " 'opponent_team': 9,\n",
       " 'opponent_team_name': 'LIV',\n",
       " 'opponent_team_promoted': False,\n",
       " 'opponent_team_relegated': False,\n",
       " 'own_goals': 0,\n",
       " 'penalties_conceded': 0,\n",
       " 'penalties_missed': 0,\n",
       " 'penalties_saved': 0,\n",
       " 'recoveries': 0,\n",
       " 'red_cards': 0,\n",
       " 'round': 1,\n",
       " 'saves': 0,\n",
       " 'selected': 296455,\n",
       " 'tackled': 4,\n",
       " 'tackles': 0,\n",
       " 'target_missed': 0,\n",
       " 'team_a_score': 4,\n",
       " 'team_h_score': 3,\n",
       " 'team_name': 'ARS',\n",
       " 'threat': 14.0,\n",
       " 'total_points': 2,\n",
       " 'transfers_balance': 0,\n",
       " 'transfers_in': 0,\n",
       " 'transfers_out': 0,\n",
       " 'value': 110,\n",
       " 'was_home': True,\n",
       " 'winning_goals': 0,\n",
       " 'yellow_cards': 0}"
      ]
     },
     "execution_count": 192,
     "metadata": {},
     "output_type": "execute_result"
    }
   ],
   "source": [
    "data.json()[\"history\"][0]"
   ]
  },
  {
   "cell_type": "code",
   "execution_count": 193,
   "id": "da83cdab",
   "metadata": {},
   "outputs": [
    {
     "name": "stdout",
     "output_type": "stream",
     "text": [
      "38\n",
      "38\n",
      "38\n",
      "38\n",
      "38\n",
      "38\n",
      "38\n",
      "38\n",
      "38\n",
      "38\n",
      "38\n",
      "38\n",
      "38\n",
      "38\n",
      "35\n"
     ]
    }
   ],
   "source": [
    "for i in range(len(df)):\n",
    "    temp_dict = {}\n",
    "    data = requests.get(\"https://www.fantasynutmeg.com/api/history/season/2016-17?player=\"+str(df.iloc[i][\"ID\"]))\n",
    "    data = data.json()[\"history\"]\n",
    "    print(len(data))\n",
    "    for j,obj in enumerate(data):\n",
    "        other_dict = {} \n",
    "        other_dict[\"cost\"] = obj[\"value\"]\n",
    "        other_dict[\"points\"] = obj[\"total_points\"]\n",
    "        temp_dict[obj[\"round\"]] = other_dict\n",
    "    \n",
    "    player_stats[df.iloc[i][\"Name\"]] = temp_dict"
   ]
  },
  {
   "cell_type": "code",
   "execution_count": 194,
   "id": "c4e8a42c",
   "metadata": {},
   "outputs": [
    {
     "data": {
      "text/plain": [
       "{4: {'cost': 60, 'points': 0},\n",
       " 5: {'cost': 60, 'points': 0},\n",
       " 6: {'cost': 59, 'points': 1},\n",
       " 7: {'cost': 59, 'points': 6},\n",
       " 8: {'cost': 59, 'points': 6},\n",
       " 9: {'cost': 59, 'points': 8},\n",
       " 10: {'cost': 59, 'points': 6},\n",
       " 11: {'cost': 59, 'points': 13},\n",
       " 12: {'cost': 61, 'points': 6},\n",
       " 13: {'cost': 61, 'points': 2},\n",
       " 14: {'cost': 62, 'points': 6},\n",
       " 15: {'cost': 63, 'points': 6},\n",
       " 16: {'cost': 63, 'points': 7},\n",
       " 17: {'cost': 64, 'points': 6},\n",
       " 18: {'cost': 64, 'points': 6},\n",
       " 19: {'cost': 64, 'points': 3},\n",
       " 20: {'cost': 65, 'points': 1},\n",
       " 21: {'cost': 65, 'points': 21},\n",
       " 22: {'cost': 66, 'points': 6},\n",
       " 23: {'cost': 66, 'points': 2},\n",
       " 24: {'cost': 66, 'points': 8},\n",
       " 25: {'cost': 67, 'points': 2},\n",
       " 26: {'cost': 68, 'points': 2},\n",
       " 27: {'cost': 68, 'points': 2},\n",
       " 29: {'cost': 68, 'points': 6},\n",
       " 30: {'cost': 68, 'points': 1},\n",
       " 31: {'cost': 68, 'points': 2},\n",
       " 32: {'cost': 68, 'points': 8},\n",
       " 33: {'cost': 68, 'points': 0},\n",
       " 34: {'cost': 68, 'points': 4},\n",
       " 35: {'cost': 68, 'points': 6},\n",
       " 36: {'cost': 68, 'points': 14},\n",
       " 37: {'cost': 68, 'points': 0},\n",
       " 38: {'cost': 69, 'points': 2}}"
      ]
     },
     "execution_count": 194,
     "metadata": {},
     "output_type": "execute_result"
    }
   ],
   "source": [
    "player_stats[\"Marcos Alonso\"]"
   ]
  },
  {
   "cell_type": "code",
   "execution_count": 195,
   "id": "d038cccb",
   "metadata": {},
   "outputs": [],
   "source": [
    "attackers = []\n",
    "midfielders = []\n",
    "defenders = []\n",
    "\n",
    "for i in range(len(df)):\n",
    "    if df.iloc[i][\"Position\"] == \"MID\":\n",
    "        midfielders.append(df.iloc[i][\"Name\"])\n",
    "    elif df.iloc[i][\"Position\"] == \"FWD\":\n",
    "        attackers.append(df.iloc[i][\"Name\"])\n",
    "    else:\n",
    "        defenders.append(df.iloc[i][\"Name\"])"
   ]
  },
  {
   "cell_type": "code",
   "execution_count": 196,
   "id": "b0041d91",
   "metadata": {},
   "outputs": [
    {
     "data": {
      "text/plain": [
       "['Diego Da Silva Costa',\n",
       " 'Romelu Lukaku',\n",
       " 'Sergio Agüero',\n",
       " 'Zlatan Ibrahimovic',\n",
       " 'Harry Kane']"
      ]
     },
     "execution_count": 196,
     "metadata": {},
     "output_type": "execute_result"
    }
   ],
   "source": [
    "attackers"
   ]
  },
  {
   "cell_type": "code",
   "execution_count": 197,
   "id": "35a5db8c",
   "metadata": {},
   "outputs": [
    {
     "data": {
      "text/plain": [
       "['Alexis Sánchez',\n",
       " 'Eden Hazard',\n",
       " 'Kevin De Bruyne',\n",
       " 'Christian Eriksen',\n",
       " 'Bamidele Alli']"
      ]
     },
     "execution_count": 197,
     "metadata": {},
     "output_type": "execute_result"
    }
   ],
   "source": [
    "midfielders"
   ]
  },
  {
   "cell_type": "code",
   "execution_count": 198,
   "id": "5e3c2d35",
   "metadata": {
    "scrolled": true
   },
   "outputs": [
    {
     "data": {
      "text/plain": [
       "['César Azpilicueta',\n",
       " 'Gary Cahill',\n",
       " 'Leighton Baines',\n",
       " 'Kyle Walker',\n",
       " 'Marcos Alonso']"
      ]
     },
     "execution_count": 198,
     "metadata": {},
     "output_type": "execute_result"
    }
   ],
   "source": [
    "defenders"
   ]
  },
  {
   "cell_type": "code",
   "execution_count": 199,
   "id": "cf083eff",
   "metadata": {},
   "outputs": [],
   "source": [
    "a = [1,2,3,4,5]\n",
    "m = [1,2,3,4,5]\n",
    "d = [1,2,3,4,5]"
   ]
  },
  {
   "cell_type": "code",
   "execution_count": 200,
   "id": "177b91a1",
   "metadata": {},
   "outputs": [],
   "source": [
    "state_space = []\n",
    "for combination_a in itertools.combinations(a, 3):\n",
    "    for combination_b in itertools.combinations(m, 3):\n",
    "        for combination_c in itertools.combinations(d, 3):\n",
    "            state_space.append({\n",
    "                'attack': combination_a,\n",
    "                'midfield': combination_b,\n",
    "                'defence': combination_c\n",
    "            })"
   ]
  },
  {
   "cell_type": "code",
   "execution_count": 201,
   "id": "842a1b92",
   "metadata": {},
   "outputs": [
    {
     "data": {
      "text/plain": [
       "1000"
      ]
     },
     "execution_count": 201,
     "metadata": {},
     "output_type": "execute_result"
    }
   ],
   "source": [
    "len(state_space)"
   ]
  },
  {
   "cell_type": "code",
   "execution_count": 202,
   "id": "9961d10f",
   "metadata": {},
   "outputs": [
    {
     "data": {
      "text/plain": [
       "{'attack': (1, 3, 5), 'midfield': (1, 2, 5), 'defence': (1, 2, 3)}"
      ]
     },
     "execution_count": 202,
     "metadata": {},
     "output_type": "execute_result"
    }
   ],
   "source": [
    "state = state_space[420]\n",
    "state"
   ]
  },
  {
   "cell_type": "code",
   "execution_count": 203,
   "id": "288d6827",
   "metadata": {},
   "outputs": [],
   "source": [
    "week = 1"
   ]
  },
  {
   "cell_type": "code",
   "execution_count": 204,
   "id": "3ad08406",
   "metadata": {},
   "outputs": [],
   "source": [
    "attack_ranking = []\n",
    "midfield_ranking = []\n",
    "defense_ranking = []\n",
    "\n",
    "for i in attackers:\n",
    "    temp_obj={}\n",
    "    temp_obj[\"Name\"] = i\n",
    "    temp_obj[\"Points\"] = player_stats[i][week][\"points\"]\n",
    "    temp_obj[\"Cost\"] = player_stats[i][week][\"cost\"]\n",
    "    attack_ranking.append(temp_obj)"
   ]
  },
  {
   "cell_type": "code",
   "execution_count": 205,
   "id": "42d7682f",
   "metadata": {},
   "outputs": [
    {
     "data": {
      "text/plain": [
       "[{'Name': 'Diego Da Silva Costa', 'Points': 5, 'Cost': 95},\n",
       " {'Name': 'Romelu Lukaku', 'Points': 0, 'Cost': 90},\n",
       " {'Name': 'Sergio Agüero', 'Points': 9, 'Cost': 130},\n",
       " {'Name': 'Zlatan Ibrahimovic', 'Points': 9, 'Cost': 115},\n",
       " {'Name': 'Harry Kane', 'Points': 2, 'Cost': 110}]"
      ]
     },
     "execution_count": 205,
     "metadata": {},
     "output_type": "execute_result"
    }
   ],
   "source": [
    "attack_ranking"
   ]
  },
  {
   "cell_type": "code",
   "execution_count": 206,
   "id": "993e4ef7",
   "metadata": {},
   "outputs": [],
   "source": [
    "attack_ranking = sorted(attack_ranking, key = lambda x : -x[\"Points\"])"
   ]
  },
  {
   "cell_type": "code",
   "execution_count": 207,
   "id": "8db1714b",
   "metadata": {},
   "outputs": [
    {
     "data": {
      "text/plain": [
       "[{'Name': 'Sergio Agüero', 'Points': 9, 'Cost': 130},\n",
       " {'Name': 'Zlatan Ibrahimovic', 'Points': 9, 'Cost': 115},\n",
       " {'Name': 'Diego Da Silva Costa', 'Points': 5, 'Cost': 95},\n",
       " {'Name': 'Harry Kane', 'Points': 2, 'Cost': 110},\n",
       " {'Name': 'Romelu Lukaku', 'Points': 0, 'Cost': 90}]"
      ]
     },
     "execution_count": 207,
     "metadata": {},
     "output_type": "execute_result"
    }
   ],
   "source": [
    "attack_ranking"
   ]
  },
  {
   "cell_type": "code",
   "execution_count": 208,
   "id": "08d12305",
   "metadata": {},
   "outputs": [
    {
     "name": "stdout",
     "output_type": "stream",
     "text": [
      "1\n",
      "3\n",
      "5\n"
     ]
    }
   ],
   "source": [
    "for i in state[\"attack\"]:\n",
    "    print(i)"
   ]
  },
  {
   "cell_type": "code",
   "execution_count": 209,
   "id": "1530803e",
   "metadata": {},
   "outputs": [],
   "source": [
    "def get_state_players(week,state):\n",
    "    attack_ranking = []\n",
    "    midfield_ranking = []\n",
    "    defense_ranking = []\n",
    "\n",
    "    for i in attackers:\n",
    "        temp_obj={}\n",
    "        temp_obj[\"Name\"] = i\n",
    "        if week in player_stats[i].keys():\n",
    "            temp_obj[\"Points\"] = player_stats[i][week][\"points\"]\n",
    "            temp_obj[\"Cost\"] = player_stats[i][week][\"cost\"]\n",
    "        else:\n",
    "            temp_obj[\"Points\"] = -100\n",
    "            temp_obj[\"Cost\"] = 200\n",
    "        attack_ranking.append(temp_obj)\n",
    "    for i in midfielders:\n",
    "        temp_obj={}\n",
    "        temp_obj[\"Name\"] = i\n",
    "        if week in player_stats[i].keys():\n",
    "            temp_obj[\"Points\"] = player_stats[i][week][\"points\"]\n",
    "            temp_obj[\"Cost\"] = player_stats[i][week][\"cost\"]\n",
    "        else:\n",
    "            temp_obj[\"Points\"] = -100\n",
    "            temp_obj[\"Cost\"] = 200\n",
    "        midfield_ranking.append(temp_obj)\n",
    "    for i in defenders:\n",
    "        temp_obj={}\n",
    "        temp_obj[\"Name\"] = i\n",
    "        if week in player_stats[i].keys():\n",
    "            temp_obj[\"Points\"] = player_stats[i][week][\"points\"]\n",
    "            temp_obj[\"Cost\"] = player_stats[i][week][\"cost\"]\n",
    "        else:\n",
    "            temp_obj[\"Points\"] = -100\n",
    "            temp_obj[\"Cost\"] = 200\n",
    "        defense_ranking.append(temp_obj)\n",
    "        \n",
    "    attack_ranking = sorted(attack_ranking, key = lambda x : -x[\"Points\"])\n",
    "    midfield_ranking = sorted(midfield_ranking, key = lambda x : -x[\"Points\"])\n",
    "    defense_ranking = sorted(defense_ranking, key = lambda x : -x[\"Points\"])\n",
    "    \n",
    "    return_obj = {}\n",
    "    return_att = []\n",
    "    return_mid = []\n",
    "    return_def = []\n",
    "    \n",
    "    for i in state[\"attack\"]:\n",
    "        return_att.append(attack_ranking[i-1])\n",
    "    for i in state[\"midfield\"]:\n",
    "        return_mid.append(midfield_ranking[i-1])\n",
    "    for i in state[\"defence\"]:\n",
    "        return_def.append(defense_ranking[i-1])\n",
    "    return_obj[\"attack\"] = return_att\n",
    "    return_obj[\"midfield\"] = return_mid   \n",
    "    return_obj[\"defense\"] = return_def\n",
    "    \n",
    "    return return_obj"
   ]
  },
  {
   "cell_type": "code",
   "execution_count": 210,
   "id": "cc92f5c9",
   "metadata": {},
   "outputs": [
    {
     "data": {
      "text/plain": [
       "{'attack': [{'Name': 'Sergio Agüero', 'Points': 9, 'Cost': 130},\n",
       "  {'Name': 'Diego Da Silva Costa', 'Points': 5, 'Cost': 95},\n",
       "  {'Name': 'Romelu Lukaku', 'Points': 0, 'Cost': 90}],\n",
       " 'midfield': [{'Name': 'Eden Hazard', 'Points': 10, 'Cost': 100},\n",
       "  {'Name': 'Alexis Sánchez', 'Points': 2, 'Cost': 110},\n",
       "  {'Name': 'Bamidele Alli', 'Points': 2, 'Cost': 85}],\n",
       " 'defense': [{'Name': 'Kyle Walker', 'Points': 6, 'Cost': 55},\n",
       "  {'Name': 'César Azpilicueta', 'Points': 5, 'Cost': 60},\n",
       "  {'Name': 'Gary Cahill', 'Points': 2, 'Cost': 60}]}"
      ]
     },
     "execution_count": 210,
     "metadata": {},
     "output_type": "execute_result"
    }
   ],
   "source": [
    "get_state_players(week,state)"
   ]
  },
  {
   "cell_type": "code",
   "execution_count": 217,
   "id": "a6b50f1d",
   "metadata": {},
   "outputs": [
    {
     "data": {
      "text/plain": [
       "{'attack': [{'Name': 'Sergio Agüero', 'Points': 7, 'Cost': 127},\n",
       "  {'Name': 'Diego Da Silva Costa', 'Points': 1, 'Cost': 107},\n",
       "  {'Name': 'Harry Kane', 'Points': 0, 'Cost': 112}],\n",
       " 'midfield': [{'Name': 'Bamidele Alli', 'Points': 6, 'Cost': 89},\n",
       "  {'Name': 'Eden Hazard', 'Points': 5, 'Cost': 102},\n",
       "  {'Name': 'Alexis Sánchez', 'Points': 2, 'Cost': 116}],\n",
       " 'defense': [{'Name': 'César Azpilicueta', 'Points': 1, 'Cost': 64},\n",
       "  {'Name': 'Leighton Baines', 'Points': 1, 'Cost': 57},\n",
       "  {'Name': 'Marcos Alonso', 'Points': 1, 'Cost': 68}]}"
      ]
     },
     "execution_count": 217,
     "metadata": {},
     "output_type": "execute_result"
    }
   ],
   "source": [
    "get_state_players(30,state)"
   ]
  },
  {
   "cell_type": "code",
   "execution_count": null,
   "id": "cd7f2482",
   "metadata": {},
   "outputs": [],
   "source": []
  },
  {
   "cell_type": "code",
   "execution_count": null,
   "id": "7ee81e06",
   "metadata": {},
   "outputs": [],
   "source": []
  },
  {
   "cell_type": "code",
   "execution_count": null,
   "id": "4bd3819c",
   "metadata": {},
   "outputs": [],
   "source": []
  },
  {
   "cell_type": "code",
   "execution_count": null,
   "id": "f2252e5f",
   "metadata": {},
   "outputs": [],
   "source": []
  }
 ],
 "metadata": {
  "kernelspec": {
   "display_name": "Python 3",
   "language": "python",
   "name": "python3"
  },
  "language_info": {
   "codemirror_mode": {
    "name": "ipython",
    "version": 3
   },
   "file_extension": ".py",
   "mimetype": "text/x-python",
   "name": "python",
   "nbconvert_exporter": "python",
   "pygments_lexer": "ipython3",
   "version": "3.9.15"
  }
 },
 "nbformat": 4,
 "nbformat_minor": 5
}
