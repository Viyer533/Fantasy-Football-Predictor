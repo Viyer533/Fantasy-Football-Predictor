{
 "cells": [
  {
   "cell_type": "code",
   "execution_count": 317,
   "id": "a83c6802",
   "metadata": {},
   "outputs": [],
   "source": [
    "from bs4 import BeautifulSoup\n",
    "import requests\n",
    "import pandas as pd\n",
    "import itertools\n",
    "import numpy as np\n",
    "import random\n",
    "import torch"
   ]
  },
  {
   "cell_type": "code",
   "execution_count": 2,
   "id": "7f8b7752",
   "metadata": {},
   "outputs": [],
   "source": [
    "url = \"https://www.fantasynutmeg.com/api/history/season/2016-17\""
   ]
  },
  {
   "cell_type": "code",
   "execution_count": 3,
   "id": "e81ae4e5",
   "metadata": {},
   "outputs": [],
   "source": [
    "data = requests.get(url)"
   ]
  },
  {
   "cell_type": "code",
   "execution_count": 4,
   "id": "290a2f65",
   "metadata": {},
   "outputs": [],
   "source": [
    "hist = data.json()['history']"
   ]
  },
  {
   "cell_type": "code",
   "execution_count": 5,
   "id": "ee473d6a",
   "metadata": {},
   "outputs": [],
   "source": [
    "df = pd.DataFrame(columns=['Name','ID','Position'])"
   ]
  },
  {
   "cell_type": "code",
   "execution_count": 6,
   "id": "d9360032",
   "metadata": {},
   "outputs": [],
   "source": [
    "for i in range(len(hist)):\n",
    "    name = hist[i]['first_name']+\" \"+hist[i]['second_name']\n",
    "    id_ = hist[i]['id']\n",
    "    pos = hist[i]['position']\n",
    "    df.loc[i] = [name,id_,pos]"
   ]
  },
  {
   "cell_type": "code",
   "execution_count": 7,
   "id": "5920e421",
   "metadata": {},
   "outputs": [],
   "source": [
    "players = [\"Alexis Sánchez\",\"Gary Cahill\",\"César Azpilicueta\",\"Eden Hazard\",\"Diego Da Silva Costa\",\"Leighton Baines\",\"Harry Kane\",\"Romelu Lukaku\",\"Sergio Agüero\",\"Zlatan Ibrahimovic\",\"Bamidele Alli\",\"Christian Eriksen\",\"Kevin De Bruyne\",\"Kyle Walker\",\"Marcos Alonso\"]\n",
    "df = df[df['Name'].isin(players)]"
   ]
  },
  {
   "cell_type": "code",
   "execution_count": 8,
   "id": "4cef4376",
   "metadata": {},
   "outputs": [
    {
     "data": {
      "text/html": [
       "<div>\n",
       "<style scoped>\n",
       "    .dataframe tbody tr th:only-of-type {\n",
       "        vertical-align: middle;\n",
       "    }\n",
       "\n",
       "    .dataframe tbody tr th {\n",
       "        vertical-align: top;\n",
       "    }\n",
       "\n",
       "    .dataframe thead th {\n",
       "        text-align: right;\n",
       "    }\n",
       "</style>\n",
       "<table border=\"1\" class=\"dataframe\">\n",
       "  <thead>\n",
       "    <tr style=\"text-align: right;\">\n",
       "      <th></th>\n",
       "      <th>Name</th>\n",
       "      <th>ID</th>\n",
       "      <th>Position</th>\n",
       "    </tr>\n",
       "  </thead>\n",
       "  <tbody>\n",
       "    <tr>\n",
       "      <th>11</th>\n",
       "      <td>Alexis Sánchez</td>\n",
       "      <td>12</td>\n",
       "      <td>MID</td>\n",
       "    </tr>\n",
       "    <tr>\n",
       "      <th>76</th>\n",
       "      <td>César Azpilicueta</td>\n",
       "      <td>77</td>\n",
       "      <td>DEF</td>\n",
       "    </tr>\n",
       "    <tr>\n",
       "      <th>77</th>\n",
       "      <td>Gary Cahill</td>\n",
       "      <td>78</td>\n",
       "      <td>DEF</td>\n",
       "    </tr>\n",
       "    <tr>\n",
       "      <th>81</th>\n",
       "      <td>Eden Hazard</td>\n",
       "      <td>82</td>\n",
       "      <td>MID</td>\n",
       "    </tr>\n",
       "    <tr>\n",
       "      <th>96</th>\n",
       "      <td>Diego Da Silva Costa</td>\n",
       "      <td>97</td>\n",
       "      <td>FWD</td>\n",
       "    </tr>\n",
       "    <tr>\n",
       "      <th>124</th>\n",
       "      <td>Leighton Baines</td>\n",
       "      <td>125</td>\n",
       "      <td>DEF</td>\n",
       "    </tr>\n",
       "    <tr>\n",
       "      <th>142</th>\n",
       "      <td>Romelu Lukaku</td>\n",
       "      <td>143</td>\n",
       "      <td>FWD</td>\n",
       "    </tr>\n",
       "    <tr>\n",
       "      <th>234</th>\n",
       "      <td>Kevin De Bruyne</td>\n",
       "      <td>235</td>\n",
       "      <td>MID</td>\n",
       "    </tr>\n",
       "    <tr>\n",
       "      <th>238</th>\n",
       "      <td>Sergio Agüero</td>\n",
       "      <td>239</td>\n",
       "      <td>FWD</td>\n",
       "    </tr>\n",
       "    <tr>\n",
       "      <th>271</th>\n",
       "      <td>Zlatan Ibrahimovic</td>\n",
       "      <td>272</td>\n",
       "      <td>FWD</td>\n",
       "    </tr>\n",
       "    <tr>\n",
       "      <th>383</th>\n",
       "      <td>Kyle Walker</td>\n",
       "      <td>384</td>\n",
       "      <td>DEF</td>\n",
       "    </tr>\n",
       "    <tr>\n",
       "      <th>393</th>\n",
       "      <td>Christian Eriksen</td>\n",
       "      <td>394</td>\n",
       "      <td>MID</td>\n",
       "    </tr>\n",
       "    <tr>\n",
       "      <th>397</th>\n",
       "      <td>Bamidele Alli</td>\n",
       "      <td>398</td>\n",
       "      <td>MID</td>\n",
       "    </tr>\n",
       "    <tr>\n",
       "      <th>402</th>\n",
       "      <td>Harry Kane</td>\n",
       "      <td>403</td>\n",
       "      <td>FWD</td>\n",
       "    </tr>\n",
       "    <tr>\n",
       "      <th>560</th>\n",
       "      <td>Marcos Alonso</td>\n",
       "      <td>561</td>\n",
       "      <td>DEF</td>\n",
       "    </tr>\n",
       "  </tbody>\n",
       "</table>\n",
       "</div>"
      ],
      "text/plain": [
       "                     Name   ID Position\n",
       "11         Alexis Sánchez   12      MID\n",
       "76      César Azpilicueta   77      DEF\n",
       "77            Gary Cahill   78      DEF\n",
       "81            Eden Hazard   82      MID\n",
       "96   Diego Da Silva Costa   97      FWD\n",
       "124       Leighton Baines  125      DEF\n",
       "142         Romelu Lukaku  143      FWD\n",
       "234       Kevin De Bruyne  235      MID\n",
       "238         Sergio Agüero  239      FWD\n",
       "271    Zlatan Ibrahimovic  272      FWD\n",
       "383           Kyle Walker  384      DEF\n",
       "393     Christian Eriksen  394      MID\n",
       "397         Bamidele Alli  398      MID\n",
       "402            Harry Kane  403      FWD\n",
       "560         Marcos Alonso  561      DEF"
      ]
     },
     "execution_count": 8,
     "metadata": {},
     "output_type": "execute_result"
    }
   ],
   "source": [
    "df"
   ]
  },
  {
   "cell_type": "markdown",
   "id": "a551fdeb",
   "metadata": {},
   "source": [
    "Top 5 players by position for the season(16-17)\n",
    "\n",
    "Kane, Lukaku, Costa, Aguero, Ibrahimovic  \n",
    "Sanchez, Alli, Hazard, Erikson, De Bruyne  \n",
    "Cahill, Alonso, Azpi, Walker, Baines  \n",
    "Heaton, Lloris, Courtois, de Gea, Cech"
   ]
  },
  {
   "cell_type": "markdown",
   "id": "ac4b3595",
   "metadata": {},
   "source": [
    "Sanchez: https://www.fantasynutmeg.com/api/history/season/2016-17?player=12  \n",
    "403, 143, 97, 239, 272  \n",
    "12, 398, 82, 394, 235  \n",
    "78, 561, 77, 384, 125"
   ]
  },
  {
   "cell_type": "code",
   "execution_count": 9,
   "id": "73bd640e",
   "metadata": {},
   "outputs": [],
   "source": [
    "player_stats = {}"
   ]
  },
  {
   "cell_type": "code",
   "execution_count": 10,
   "id": "7d35de21",
   "metadata": {},
   "outputs": [],
   "source": [
    "data = requests.get(\"https://www.fantasynutmeg.com/api/history/season/2016-17?player=12\")"
   ]
  },
  {
   "cell_type": "code",
   "execution_count": 11,
   "id": "c3770a8a",
   "metadata": {},
   "outputs": [
    {
     "data": {
      "text/plain": [
       "{'assists': 0,\n",
       " 'attempted_passes': 17,\n",
       " 'big_chances_created': 0,\n",
       " 'big_chances_missed': 0,\n",
       " 'bonus': 0,\n",
       " 'bps': 0,\n",
       " 'clean_sheets': 0,\n",
       " 'clearances_blocks_interceptions': 0,\n",
       " 'completed_passes': 12,\n",
       " 'creativity': 15.3,\n",
       " 'dribbles': 1,\n",
       " 'ea_index': 0,\n",
       " 'element': 12,\n",
       " 'errors_leading_to_goal': 0,\n",
       " 'errors_leading_to_goal_attempt': 0,\n",
       " 'fixture': 8,\n",
       " 'fouls': 0,\n",
       " 'goals_conceded': 4,\n",
       " 'goals_scored': 0,\n",
       " 'ict_index': 3.5,\n",
       " 'id': 12,\n",
       " 'influence': 5.4,\n",
       " 'key_passes': 1,\n",
       " 'kickoff_time': '2016-08-14T15:00:00Z',\n",
       " 'kickoff_time_formatted': '14 Aug 16:00',\n",
       " 'loaned_in': 0,\n",
       " 'loaned_out': 0,\n",
       " 'minutes': 90,\n",
       " 'offside': 4,\n",
       " 'open_play_crosses': 0,\n",
       " 'opponent_team': 9,\n",
       " 'opponent_team_name': 'LIV',\n",
       " 'opponent_team_promoted': False,\n",
       " 'opponent_team_relegated': False,\n",
       " 'own_goals': 0,\n",
       " 'penalties_conceded': 0,\n",
       " 'penalties_missed': 0,\n",
       " 'penalties_saved': 0,\n",
       " 'recoveries': 0,\n",
       " 'red_cards': 0,\n",
       " 'round': 1,\n",
       " 'saves': 0,\n",
       " 'selected': 296455,\n",
       " 'tackled': 4,\n",
       " 'tackles': 0,\n",
       " 'target_missed': 0,\n",
       " 'team_a_score': 4,\n",
       " 'team_h_score': 3,\n",
       " 'team_name': 'ARS',\n",
       " 'threat': 14.0,\n",
       " 'total_points': 2,\n",
       " 'transfers_balance': 0,\n",
       " 'transfers_in': 0,\n",
       " 'transfers_out': 0,\n",
       " 'value': 110,\n",
       " 'was_home': True,\n",
       " 'winning_goals': 0,\n",
       " 'yellow_cards': 0}"
      ]
     },
     "execution_count": 11,
     "metadata": {},
     "output_type": "execute_result"
    }
   ],
   "source": [
    "data.json()[\"history\"][0]"
   ]
  },
  {
   "cell_type": "code",
   "execution_count": 12,
   "id": "da83cdab",
   "metadata": {},
   "outputs": [
    {
     "name": "stdout",
     "output_type": "stream",
     "text": [
      "38\n",
      "38\n",
      "38\n",
      "38\n",
      "38\n",
      "38\n",
      "38\n",
      "38\n",
      "38\n",
      "38\n",
      "38\n",
      "38\n",
      "38\n",
      "38\n",
      "35\n"
     ]
    }
   ],
   "source": [
    "for i in range(len(df)):\n",
    "    temp_dict = {}\n",
    "    data = requests.get(\"https://www.fantasynutmeg.com/api/history/season/2016-17?player=\"+str(df.iloc[i][\"ID\"]))\n",
    "    data = data.json()[\"history\"]\n",
    "    print(len(data))\n",
    "    for j,obj in enumerate(data):\n",
    "        other_dict = {} \n",
    "        other_dict[\"cost\"] = obj[\"value\"]\n",
    "        other_dict[\"points\"] = obj[\"total_points\"]\n",
    "        temp_dict[obj[\"round\"]] = other_dict\n",
    "    \n",
    "    player_stats[df.iloc[i][\"Name\"]] = temp_dict"
   ]
  },
  {
   "cell_type": "code",
   "execution_count": 13,
   "id": "c4e8a42c",
   "metadata": {},
   "outputs": [
    {
     "data": {
      "text/plain": [
       "{4: {'cost': 60, 'points': 0},\n",
       " 5: {'cost': 60, 'points': 0},\n",
       " 6: {'cost': 59, 'points': 1},\n",
       " 7: {'cost': 59, 'points': 6},\n",
       " 8: {'cost': 59, 'points': 6},\n",
       " 9: {'cost': 59, 'points': 8},\n",
       " 10: {'cost': 59, 'points': 6},\n",
       " 11: {'cost': 59, 'points': 13},\n",
       " 12: {'cost': 61, 'points': 6},\n",
       " 13: {'cost': 61, 'points': 2},\n",
       " 14: {'cost': 62, 'points': 6},\n",
       " 15: {'cost': 63, 'points': 6},\n",
       " 16: {'cost': 63, 'points': 7},\n",
       " 17: {'cost': 64, 'points': 6},\n",
       " 18: {'cost': 64, 'points': 6},\n",
       " 19: {'cost': 64, 'points': 3},\n",
       " 20: {'cost': 65, 'points': 1},\n",
       " 21: {'cost': 65, 'points': 21},\n",
       " 22: {'cost': 66, 'points': 6},\n",
       " 23: {'cost': 66, 'points': 2},\n",
       " 24: {'cost': 66, 'points': 8},\n",
       " 25: {'cost': 67, 'points': 2},\n",
       " 26: {'cost': 68, 'points': 2},\n",
       " 27: {'cost': 68, 'points': 2},\n",
       " 29: {'cost': 68, 'points': 6},\n",
       " 30: {'cost': 68, 'points': 1},\n",
       " 31: {'cost': 68, 'points': 2},\n",
       " 32: {'cost': 68, 'points': 8},\n",
       " 33: {'cost': 68, 'points': 0},\n",
       " 34: {'cost': 68, 'points': 4},\n",
       " 35: {'cost': 68, 'points': 6},\n",
       " 36: {'cost': 68, 'points': 14},\n",
       " 37: {'cost': 68, 'points': 0},\n",
       " 38: {'cost': 69, 'points': 2}}"
      ]
     },
     "execution_count": 13,
     "metadata": {},
     "output_type": "execute_result"
    }
   ],
   "source": [
    "player_stats[\"Marcos Alonso\"]"
   ]
  },
  {
   "cell_type": "code",
   "execution_count": 14,
   "id": "d038cccb",
   "metadata": {},
   "outputs": [],
   "source": [
    "attackers = []\n",
    "midfielders = []\n",
    "defenders = []\n",
    "\n",
    "for i in range(len(df)):\n",
    "    if df.iloc[i][\"Position\"] == \"MID\":\n",
    "        midfielders.append(df.iloc[i][\"Name\"])\n",
    "    elif df.iloc[i][\"Position\"] == \"FWD\":\n",
    "        attackers.append(df.iloc[i][\"Name\"])\n",
    "    else:\n",
    "        defenders.append(df.iloc[i][\"Name\"])"
   ]
  },
  {
   "cell_type": "code",
   "execution_count": 15,
   "id": "b0041d91",
   "metadata": {},
   "outputs": [
    {
     "data": {
      "text/plain": [
       "['Diego Da Silva Costa',\n",
       " 'Romelu Lukaku',\n",
       " 'Sergio Agüero',\n",
       " 'Zlatan Ibrahimovic',\n",
       " 'Harry Kane']"
      ]
     },
     "execution_count": 15,
     "metadata": {},
     "output_type": "execute_result"
    }
   ],
   "source": [
    "attackers"
   ]
  },
  {
   "cell_type": "code",
   "execution_count": 16,
   "id": "35a5db8c",
   "metadata": {},
   "outputs": [
    {
     "data": {
      "text/plain": [
       "['Alexis Sánchez',\n",
       " 'Eden Hazard',\n",
       " 'Kevin De Bruyne',\n",
       " 'Christian Eriksen',\n",
       " 'Bamidele Alli']"
      ]
     },
     "execution_count": 16,
     "metadata": {},
     "output_type": "execute_result"
    }
   ],
   "source": [
    "midfielders"
   ]
  },
  {
   "cell_type": "code",
   "execution_count": 17,
   "id": "5e3c2d35",
   "metadata": {
    "scrolled": true
   },
   "outputs": [
    {
     "data": {
      "text/plain": [
       "['César Azpilicueta',\n",
       " 'Gary Cahill',\n",
       " 'Leighton Baines',\n",
       " 'Kyle Walker',\n",
       " 'Marcos Alonso']"
      ]
     },
     "execution_count": 17,
     "metadata": {},
     "output_type": "execute_result"
    }
   ],
   "source": [
    "defenders"
   ]
  },
  {
   "cell_type": "code",
   "execution_count": 167,
   "id": "cf083eff",
   "metadata": {},
   "outputs": [],
   "source": [
    "a = [1,2,3,4,5]\n",
    "m = [1,2,3,4,5]\n",
    "d = [1,2,3,4,5]"
   ]
  },
  {
   "cell_type": "code",
   "execution_count": 168,
   "id": "177b91a1",
   "metadata": {},
   "outputs": [],
   "source": [
    "state_space = []\n",
    "for combination_a in itertools.combinations(a, 3):\n",
    "    for combination_b in itertools.combinations(m, 3):\n",
    "        for combination_c in itertools.combinations(d, 3):\n",
    "            state_space.append({\n",
    "                'attack': combination_a,\n",
    "                'midfield': combination_b,\n",
    "                'defence': combination_c\n",
    "            })"
   ]
  },
  {
   "cell_type": "code",
   "execution_count": 169,
   "id": "842a1b92",
   "metadata": {},
   "outputs": [
    {
     "data": {
      "text/plain": [
       "1000"
      ]
     },
     "execution_count": 169,
     "metadata": {},
     "output_type": "execute_result"
    }
   ],
   "source": [
    "len(state_space)"
   ]
  },
  {
   "cell_type": "code",
   "execution_count": 170,
   "id": "9961d10f",
   "metadata": {},
   "outputs": [
    {
     "data": {
      "text/plain": [
       "{'attack': (1, 3, 5), 'midfield': (1, 2, 5), 'defence': (1, 2, 3)}"
      ]
     },
     "execution_count": 170,
     "metadata": {},
     "output_type": "execute_result"
    }
   ],
   "source": [
    "state = state_space[420]\n",
    "state"
   ]
  },
  {
   "cell_type": "code",
   "execution_count": 22,
   "id": "288d6827",
   "metadata": {},
   "outputs": [],
   "source": [
    "week = 1"
   ]
  },
  {
   "cell_type": "code",
   "execution_count": 23,
   "id": "3ad08406",
   "metadata": {},
   "outputs": [],
   "source": [
    "attack_ranking = []\n",
    "midfield_ranking = []\n",
    "defence_ranking = []\n",
    "\n",
    "for i in attackers:\n",
    "    temp_obj={}\n",
    "    temp_obj[\"Name\"] = i\n",
    "    temp_obj[\"Points\"] = player_stats[i][week][\"points\"]\n",
    "    temp_obj[\"Cost\"] = player_stats[i][week][\"cost\"]\n",
    "    attack_ranking.append(temp_obj)"
   ]
  },
  {
   "cell_type": "code",
   "execution_count": 24,
   "id": "42d7682f",
   "metadata": {},
   "outputs": [
    {
     "data": {
      "text/plain": [
       "[{'Name': 'Diego Da Silva Costa', 'Points': 5, 'Cost': 95},\n",
       " {'Name': 'Romelu Lukaku', 'Points': 0, 'Cost': 90},\n",
       " {'Name': 'Sergio Agüero', 'Points': 9, 'Cost': 130},\n",
       " {'Name': 'Zlatan Ibrahimovic', 'Points': 9, 'Cost': 115},\n",
       " {'Name': 'Harry Kane', 'Points': 2, 'Cost': 110}]"
      ]
     },
     "execution_count": 24,
     "metadata": {},
     "output_type": "execute_result"
    }
   ],
   "source": [
    "attack_ranking"
   ]
  },
  {
   "cell_type": "code",
   "execution_count": 25,
   "id": "993e4ef7",
   "metadata": {},
   "outputs": [],
   "source": [
    "attack_ranking = sorted(attack_ranking, key = lambda x : -x[\"Points\"])"
   ]
  },
  {
   "cell_type": "code",
   "execution_count": 26,
   "id": "8db1714b",
   "metadata": {},
   "outputs": [
    {
     "data": {
      "text/plain": [
       "[{'Name': 'Sergio Agüero', 'Points': 9, 'Cost': 130},\n",
       " {'Name': 'Zlatan Ibrahimovic', 'Points': 9, 'Cost': 115},\n",
       " {'Name': 'Diego Da Silva Costa', 'Points': 5, 'Cost': 95},\n",
       " {'Name': 'Harry Kane', 'Points': 2, 'Cost': 110},\n",
       " {'Name': 'Romelu Lukaku', 'Points': 0, 'Cost': 90}]"
      ]
     },
     "execution_count": 26,
     "metadata": {},
     "output_type": "execute_result"
    }
   ],
   "source": [
    "attack_ranking"
   ]
  },
  {
   "cell_type": "code",
   "execution_count": 27,
   "id": "08d12305",
   "metadata": {},
   "outputs": [
    {
     "name": "stdout",
     "output_type": "stream",
     "text": [
      "1\n",
      "3\n",
      "5\n"
     ]
    }
   ],
   "source": [
    "for i in state[\"attack\"]:\n",
    "    print(i)"
   ]
  },
  {
   "cell_type": "code",
   "execution_count": 234,
   "id": "1530803e",
   "metadata": {},
   "outputs": [],
   "source": [
    "def get_state_players(week,state):\n",
    "    attack_ranking = []\n",
    "    midfield_ranking = []\n",
    "    defence_ranking = []\n",
    "\n",
    "    for i in attackers:\n",
    "        temp_obj={}\n",
    "        temp_obj[\"Name\"] = i\n",
    "        if week in player_stats[i].keys():\n",
    "            temp_obj[\"Points\"] = player_stats[i][week][\"points\"]\n",
    "            temp_obj[\"Cost\"] = player_stats[i][week][\"cost\"]\n",
    "        else:\n",
    "            temp_obj[\"Points\"] = -100\n",
    "            temp_obj[\"Cost\"] = 200\n",
    "        attack_ranking.append(temp_obj)\n",
    "    for i in midfielders:\n",
    "        temp_obj={}\n",
    "        temp_obj[\"Name\"] = i\n",
    "        if week in player_stats[i].keys():\n",
    "            temp_obj[\"Points\"] = player_stats[i][week][\"points\"]\n",
    "            temp_obj[\"Cost\"] = player_stats[i][week][\"cost\"]\n",
    "        else:\n",
    "            temp_obj[\"Points\"] = -100\n",
    "            temp_obj[\"Cost\"] = 200\n",
    "        midfield_ranking.append(temp_obj)\n",
    "    for i in defenders:\n",
    "        temp_obj={}\n",
    "        temp_obj[\"Name\"] = i\n",
    "        if week in player_stats[i].keys():\n",
    "            temp_obj[\"Points\"] = player_stats[i][week][\"points\"]\n",
    "            temp_obj[\"Cost\"] = player_stats[i][week][\"cost\"]\n",
    "        else:\n",
    "            temp_obj[\"Points\"] = -100\n",
    "            temp_obj[\"Cost\"] = 200\n",
    "        defence_ranking.append(temp_obj)\n",
    "        \n",
    "    attack_ranking = sorted(attack_ranking, key = lambda x : -x[\"Points\"])\n",
    "    midfield_ranking = sorted(midfield_ranking, key = lambda x : -x[\"Points\"])\n",
    "    defence_ranking = sorted(defence_ranking, key = lambda x : -x[\"Points\"])\n",
    "    \n",
    "    return_obj = {}\n",
    "    return_att = []\n",
    "    return_mid = []\n",
    "    return_def = []\n",
    "    reward = 0\n",
    "    cost = 0\n",
    "    \n",
    "    for i in state[\"attack\"]:\n",
    "        return_att.append(attack_ranking[i-1])\n",
    "        reward+= attack_ranking[i-1][\"Points\"]\n",
    "        cost+= attack_ranking[i-1][\"Cost\"]\n",
    "        \n",
    "    for i in state[\"midfield\"]:\n",
    "        return_mid.append(midfield_ranking[i-1])\n",
    "        reward+= midfield_ranking[i-1][\"Points\"]\n",
    "        cost+= midfield_ranking[i-1][\"Cost\"]\n",
    "        \n",
    "    for i in state[\"defence\"]:\n",
    "        return_def.append(defence_ranking[i-1])\n",
    "        reward+= defence_ranking[i-1][\"Points\"]\n",
    "        cost+= defence_ranking[i-1][\"Cost\"]\n",
    "    \n",
    "    if cost > 900:\n",
    "        reward -=10\n",
    "\n",
    "    return_obj[\"attack\"] = return_att\n",
    "    return_obj[\"midfield\"] = return_mid   \n",
    "    return_obj[\"defence\"] = return_def\n",
    "        \n",
    "    next_att = []\n",
    "    next_mid = []\n",
    "    next_def = []\n",
    "    \n",
    "    for i in attackers:\n",
    "        temp_obj={}\n",
    "        temp_obj[\"Name\"] = i\n",
    "        if week+1 in player_stats[i].keys():\n",
    "            temp_obj[\"Points\"] = player_stats[i][week+1][\"points\"]\n",
    "            temp_obj[\"Cost\"] = player_stats[i][week+1][\"cost\"]\n",
    "        else:\n",
    "            temp_obj[\"Points\"] = -100\n",
    "            temp_obj[\"Cost\"] = 200\n",
    "        next_att.append(temp_obj)\n",
    "    for i in midfielders:\n",
    "        temp_obj={}\n",
    "        temp_obj[\"Name\"] = i\n",
    "        if week+1 in player_stats[i].keys():\n",
    "            temp_obj[\"Points\"] = player_stats[i][week+1][\"points\"]\n",
    "            temp_obj[\"Cost\"] = player_stats[i][week+1][\"cost\"]\n",
    "        else:\n",
    "            temp_obj[\"Points\"] = -100\n",
    "            temp_obj[\"Cost\"] = 200\n",
    "        next_mid.append(temp_obj)\n",
    "    for i in defenders:\n",
    "        temp_obj={}\n",
    "        temp_obj[\"Name\"] = i\n",
    "        if week+1 in player_stats[i].keys():\n",
    "            temp_obj[\"Points\"] = player_stats[i][week+1][\"points\"]\n",
    "            temp_obj[\"Cost\"] = player_stats[i][week+1][\"cost\"]\n",
    "        else:\n",
    "            temp_obj[\"Points\"] = -100\n",
    "            temp_obj[\"Cost\"] = 200\n",
    "        next_def.append(temp_obj)\n",
    "    \n",
    "    next_att = sorted(next_att, key = lambda x : -x[\"Points\"])\n",
    "    next_mid = sorted(next_mid, key = lambda x : -x[\"Points\"]) \n",
    "    next_def = sorted(next_def, key = lambda x : -x[\"Points\"])\n",
    "    \n",
    "    att_state = []\n",
    "    mid_state = []\n",
    "    def_state = []\n",
    "    \n",
    "    for obj in return_att:\n",
    "        att_state.append(next((i+1 for i, item in enumerate(next_att) if item[\"Name\"] == obj[\"Name\"]), None))\n",
    "    \n",
    "    for obj in return_mid:\n",
    "        mid_state.append(next((i+1 for i, item in enumerate(next_mid) if item[\"Name\"] == obj[\"Name\"]), None))\n",
    "    \n",
    "    for obj in return_def:\n",
    "        def_state.append(next((i+1 for i, item in enumerate(next_def) if item[\"Name\"] == obj[\"Name\"]), None))\n",
    "    \n",
    "    new_state = {\n",
    "        'attack': tuple(sorted(att_state)),\n",
    "        'midfield': tuple(sorted(mid_state)),\n",
    "        'defence': tuple(sorted(def_state))\n",
    "    }\n",
    "    \n",
    "    return reward,return_obj,new_state"
   ]
  },
  {
   "cell_type": "code",
   "execution_count": 212,
   "id": "cc92f5c9",
   "metadata": {},
   "outputs": [
    {
     "data": {
      "text/plain": [
       "{'attack': (1, 3, 5), 'midfield': (1, 2, 5), 'defence': (1, 2, 3)}"
      ]
     },
     "execution_count": 212,
     "metadata": {},
     "output_type": "execute_result"
    }
   ],
   "source": [
    "state"
   ]
  },
  {
   "cell_type": "code",
   "execution_count": 226,
   "id": "a6b50f1d",
   "metadata": {},
   "outputs": [
    {
     "data": {
      "text/plain": [
       "(65,\n",
       " {'attack': [{'Name': 'Harry Kane', 'Points': 17, 'Cost': 119},\n",
       "   {'Name': 'Romelu Lukaku', 'Points': 8, 'Cost': 101},\n",
       "   {'Name': 'Zlatan Ibrahimovic', 'Points': 0, 'Cost': 114}],\n",
       "  'midfield': [{'Name': 'Bamidele Alli', 'Points': 11, 'Cost': 91},\n",
       "   {'Name': 'Alexis Sánchez', 'Points': 9, 'Cost': 117},\n",
       "   {'Name': 'Christian Eriksen', 'Points': 9, 'Cost': 89}],\n",
       "  'defense': [{'Name': 'Gary Cahill', 'Points': 6, 'Cost': 67},\n",
       "   {'Name': 'Leighton Baines', 'Points': 3, 'Cost': 58},\n",
       "   {'Name': 'César Azpilicueta', 'Points': 2, 'Cost': 64}]},\n",
       " {'attack': (2, 4, 5), 'midfield': (1, 4, 5), 'defence': (2, 3, 1)})"
      ]
     },
     "execution_count": 226,
     "metadata": {},
     "output_type": "execute_result"
    }
   ],
   "source": [
    "get_state_players(38,state)"
   ]
  },
  {
   "cell_type": "code",
   "execution_count": 215,
   "id": "cd7f2482",
   "metadata": {},
   "outputs": [
    {
     "data": {
      "text/plain": [
       "{'attack': (1, 3, 5), 'midfield': (1, 3, 5), 'defence': (1, 2, 4)}"
      ]
     },
     "execution_count": 215,
     "metadata": {},
     "output_type": "execute_result"
    }
   ],
   "source": [
    "new_state"
   ]
  },
  {
   "cell_type": "code",
   "execution_count": 36,
   "id": "7ee81e06",
   "metadata": {},
   "outputs": [
    {
     "data": {
      "text/plain": [
       "441"
      ]
     },
     "execution_count": 36,
     "metadata": {},
     "output_type": "execute_result"
    }
   ],
   "source": [
    "state_space.index(new_state)"
   ]
  },
  {
   "cell_type": "code",
   "execution_count": 38,
   "id": "c936707a",
   "metadata": {},
   "outputs": [],
   "source": [
    "action_space = [0,1,2,3,4,5,6]"
   ]
  },
  {
   "cell_type": "code",
   "execution_count": 98,
   "id": "f4d33409",
   "metadata": {},
   "outputs": [],
   "source": [
    "def generate_binary_numbers_with_3_ones():\n",
    "    numbers = []\n",
    "    for i in range(32):  # 32 represents all possible 5-digit binary numbers\n",
    "        binary = bin(i)[2:].zfill(5)  # Convert to binary and pad with zeros to ensure 5 digits\n",
    "        if binary.count('1') == 3:  # Check if the number of ones is exactly 3\n",
    "            numbers.append(binary)\n",
    "    return numbers\n",
    "\n",
    "# Generate and print all 5-digit binary numbers with 3 ones\n",
    "binary_numbers = generate_binary_numbers_with_3_ones()\n",
    "\n",
    "def get_bin(tuple_numbers):\n",
    "    binary_number = ['0'] * 5  # Initialize a list to represent the binary number\n",
    "\n",
    "    for index in tuple_numbers:\n",
    "        binary_number[index - 1] = '1'  # Set the bit at the specified index to 1\n",
    "\n",
    "    return ''.join(binary_number)  # Convert the list to a string\n",
    "\n",
    "def get_tup(binary_number):\n",
    "    tuple_numbers = tuple(index + 1 for index, bit in enumerate(binary_number) if bit == '1')\n",
    "    return tuple_numbers"
   ]
  },
  {
   "cell_type": "code",
   "execution_count": 189,
   "id": "dc4a4f99",
   "metadata": {},
   "outputs": [],
   "source": [
    "def take_action(state,action):\n",
    "    \n",
    "    new_state = state.copy()\n",
    "    \n",
    "    if action == 1:\n",
    "        index = binary_numbers.index(get_bin(new_state[\"attack\"]))\n",
    "        index = max(0,index-1)\n",
    "        new_state[\"attack\"] = tuple(sorted(get_tup(binary_numbers[index])))\n",
    "    elif action == 2:\n",
    "        index = binary_numbers.index(get_bin(new_state[\"attack\"]))\n",
    "        index = min(9,index+1)\n",
    "        new_state[\"attack\"] = tuple(sorted(get_tup(binary_numbers[index])))\n",
    "    elif action == 3:\n",
    "        index = binary_numbers.index(get_bin(new_state[\"midfield\"]))\n",
    "        index = max(0,index-1)\n",
    "        new_state[\"midfield\"] = tuple(sorted(get_tup(binary_numbers[index])))\n",
    "    elif action == 4:\n",
    "        index = binary_numbers.index(get_bin(new_state[\"midfield\"]))\n",
    "        index = min(9,index+1)\n",
    "        new_state[\"midfield\"] = tuple(sorted(get_tup(binary_numbers[index])))\n",
    "    elif action == 5:\n",
    "        index = binary_numbers.index(get_bin(new_state[\"defence\"]))\n",
    "        index = max(0,index-1)\n",
    "        new_state[\"defence\"] = tuple(sorted(get_tup(binary_numbers[index])))\n",
    "    elif action == 6:\n",
    "        index = binary_numbers.index(get_bin(new_state[\"defence\"]))\n",
    "        index = min(9,index+1)\n",
    "        new_state[\"defence\"] = tuple(sorted(get_tup(binary_numbers[index])))\n",
    "    return new_state"
   ]
  },
  {
   "cell_type": "code",
   "execution_count": 264,
   "id": "4bd3819c",
   "metadata": {},
   "outputs": [],
   "source": [
    "gamma = 0.9\n",
    "threshold = 0.01"
   ]
  },
  {
   "cell_type": "code",
   "execution_count": 246,
   "id": "f2252e5f",
   "metadata": {},
   "outputs": [],
   "source": [
    "def value_iteration(gamma,threshold):\n",
    "    V = np.zeros(len(state_space),dtype=np.float32)\n",
    "    iteration = 1\n",
    "    while True:\n",
    "        V_temp= np.empty(len(state_space),dtype=np.float32)\n",
    "        for state in state_space:\n",
    "            V_actions = np.zeros(len(action_space))\n",
    "            for action in action_space:\n",
    "                for week in range(1,39):\n",
    "                    temp_state = take_action(state,action)\n",
    "                    reward,obj,next_state = get_state_players(week,temp_state)\n",
    "                    index = state_space.index(next_state)\n",
    "                    V_actions[action] += reward + gamma * V[index]\n",
    "                V_actions[action] /=38\n",
    "            cur_index = state_space.index(state)\n",
    "            V_temp[cur_index] = np.max(V_actions)\n",
    "        max_delta = np.max(np.abs(V - V_temp))\n",
    "        print(iteration,max_delta)\n",
    "        iteration +=1\n",
    "        V = V_temp.copy()\n",
    "        if max_delta <= threshold:\n",
    "            break\n",
    "    \n",
    "    return V"
   ]
  },
  {
   "cell_type": "code",
   "execution_count": 250,
   "id": "4414a482",
   "metadata": {
    "scrolled": true
   },
   "outputs": [
    {
     "name": "stdout",
     "output_type": "stream",
     "text": [
      "1 45.894737\n",
      "2 12.490997\n",
      "3 5.2615166\n",
      "4 2.5348434\n",
      "5 1.2572441\n",
      "6 0.62685585\n",
      "7 0.3131504\n",
      "8 0.15653038\n",
      "9 0.07826233\n"
     ]
    }
   ],
   "source": [
    "V = value_iteration(gamma,threshold)"
   ]
  },
  {
   "cell_type": "code",
   "execution_count": 268,
   "id": "359a795f",
   "metadata": {},
   "outputs": [],
   "source": [
    "def extract_optimal_policy(V_optimal, gamma):\n",
    "    optimal_policy = torch.zeros(len(state_space))\n",
    "    for state in state_space:\n",
    "        v_actions = torch.zeros(len(action_space))\n",
    "        for action in action_space:\n",
    "            for week in range(1,39):\n",
    "                temp_state = take_action(state,action)\n",
    "                reward,obj,next_state = get_state_players(week,temp_state)\n",
    "                index = state_space.index(next_state)\n",
    "                v_actions[action] += reward + gamma * V_optimal[index]\n",
    "            v_actions[action] /=38\n",
    "        cur_index = state_space.index(state)\n",
    "        optimal_policy[cur_index] = torch.argmax(v_actions)\n",
    "    return optimal_policy"
   ]
  },
  {
   "cell_type": "code",
   "execution_count": 272,
   "id": "9b1bb4b1",
   "metadata": {},
   "outputs": [],
   "source": [
    "optimal_policy_val_iter = extract_optimal_policy(V, gamma)"
   ]
  },
  {
   "cell_type": "code",
   "execution_count": 290,
   "id": "597290e2",
   "metadata": {},
   "outputs": [
    {
     "data": {
      "text/plain": [
       "tensor([0., 6., 6., 0., 6., 5., 0., 6., 6., 6., 4., 4., 6., 4., 6., 5., 4., 6.,\n",
       "        4., 4., 4., 4., 6., 4., 6., 5., 4., 6., 4., 4., 0., 6., 6., 0., 6., 5.,\n",
       "        0., 6., 6., 6., 4., 4., 6., 4., 6., 5., 4., 6., 4., 4., 4., 4., 6., 4.,\n",
       "        6., 5., 4., 6., 4., 4., 0., 6., 6., 0., 6., 5., 0., 6., 6., 6., 4., 4.,\n",
       "        6., 4., 6., 5., 4., 6., 4., 4., 4., 4., 6., 4., 6., 5., 4., 6., 4., 4.,\n",
       "        4., 4., 6., 4., 6., 5., 4., 6., 4., 4., 2., 2., 6., 2., 6., 5., 2., 6.,\n",
       "        2., 2., 2., 2., 6., 2., 6., 5., 2., 6., 2., 2., 2., 2., 6., 2., 6., 5.,\n",
       "        2., 6., 2., 2., 2., 2., 6., 2., 6., 5., 2., 6., 2., 2., 2., 2., 6., 2.,\n",
       "        6., 5., 2., 6., 2., 2., 2., 2., 6., 2., 6., 5., 2., 6., 2., 2., 2., 2.,\n",
       "        6., 2., 6., 5., 2., 6., 2., 2., 2., 2., 6., 2., 6., 5., 2., 6., 2., 2.,\n",
       "        2., 2., 6., 2., 6., 5., 2., 6., 2., 2., 2., 2., 6., 2., 6., 5., 2., 6.,\n",
       "        2., 2., 2., 2., 6., 2., 6., 5., 2., 6., 2., 2., 2., 2., 6., 2., 6., 5.,\n",
       "        2., 6., 2., 2., 2., 2., 6., 2., 6., 5., 2., 6., 2., 2., 2., 2., 6., 2.,\n",
       "        6., 5., 2., 6., 2., 2., 2., 2., 6., 2., 6., 5., 2., 6., 2., 2., 2., 2.,\n",
       "        6., 2., 6., 5., 2., 6., 2., 2., 2., 2., 6., 2., 6., 5., 2., 6., 2., 2.,\n",
       "        2., 2., 6., 2., 6., 5., 2., 6., 2., 2., 2., 2., 6., 2., 6., 5., 2., 6.,\n",
       "        2., 2., 2., 2., 6., 2., 6., 5., 2., 6., 2., 2., 0., 6., 6., 0., 6., 5.,\n",
       "        0., 6., 6., 6., 4., 4., 6., 4., 6., 5., 4., 6., 4., 4., 4., 4., 6., 4.,\n",
       "        6., 5., 4., 6., 4., 4., 0., 6., 6., 0., 6., 5., 0., 6., 6., 6., 4., 4.,\n",
       "        6., 4., 6., 5., 4., 6., 4., 4., 4., 4., 6., 4., 6., 5., 4., 6., 4., 4.,\n",
       "        0., 6., 6., 0., 6., 5., 0., 6., 6., 6., 4., 4., 6., 4., 6., 5., 4., 6.,\n",
       "        4., 4., 4., 4., 6., 4., 6., 5., 4., 6., 4., 4., 4., 4., 6., 4., 6., 5.,\n",
       "        4., 6., 4., 6., 2., 2., 6., 2., 6., 5., 2., 6., 2., 2., 2., 2., 6., 2.,\n",
       "        6., 5., 2., 6., 2., 2., 2., 2., 6., 2., 6., 5., 2., 6., 2., 2., 2., 2.,\n",
       "        6., 2., 6., 5., 2., 6., 2., 2., 2., 2., 6., 2., 6., 5., 2., 6., 2., 2.,\n",
       "        2., 2., 6., 2., 6., 5., 2., 6., 2., 2., 2., 2., 6., 2., 6., 5., 2., 6.,\n",
       "        2., 2., 2., 2., 6., 2., 6., 5., 2., 6., 2., 2., 2., 2., 6., 2., 6., 5.,\n",
       "        2., 6., 2., 2., 2., 2., 6., 2., 6., 5., 2., 6., 2., 2., 2., 2., 6., 2.,\n",
       "        6., 5., 2., 6., 2., 2., 2., 2., 6., 2., 6., 5., 2., 6., 2., 2., 2., 2.,\n",
       "        6., 2., 6., 5., 2., 6., 2., 2., 2., 2., 6., 2., 6., 5., 2., 6., 2., 2.,\n",
       "        2., 2., 6., 2., 6., 5., 2., 6., 2., 2., 2., 2., 6., 2., 6., 5., 2., 6.,\n",
       "        2., 2., 2., 2., 6., 2., 6., 5., 2., 6., 2., 2., 2., 2., 6., 2., 6., 5.,\n",
       "        2., 6., 2., 2., 2., 2., 6., 2., 6., 5., 2., 6., 2., 2., 2., 2., 6., 2.,\n",
       "        6., 5., 2., 6., 2., 2., 0., 6., 6., 0., 6., 5., 0., 6., 6., 6., 4., 4.,\n",
       "        6., 4., 6., 5., 4., 6., 4., 4., 4., 4., 6., 4., 6., 5., 4., 6., 4., 4.,\n",
       "        0., 6., 6., 0., 6., 5., 0., 6., 6., 6., 4., 4., 6., 4., 6., 5., 4., 6.,\n",
       "        4., 4., 4., 4., 6., 4., 6., 5., 4., 6., 4., 4., 0., 6., 6., 0., 6., 5.,\n",
       "        0., 6., 6., 6., 4., 4., 6., 4., 6., 5., 4., 6., 4., 4., 4., 4., 6., 4.,\n",
       "        6., 5., 4., 6., 4., 4., 4., 4., 6., 4., 6., 5., 4., 6., 4., 4., 2., 2.,\n",
       "        6., 2., 6., 5., 2., 6., 2., 2., 2., 2., 6., 2., 6., 5., 2., 6., 2., 2.,\n",
       "        2., 2., 6., 2., 6., 5., 2., 6., 2., 2., 2., 2., 6., 2., 6., 5., 2., 6.,\n",
       "        2., 2., 2., 2., 6., 2., 6., 5., 2., 6., 2., 2., 2., 2., 6., 2., 6., 5.,\n",
       "        2., 6., 2., 2., 2., 2., 6., 2., 6., 5., 2., 6., 2., 2., 2., 2., 6., 2.,\n",
       "        6., 5., 2., 6., 2., 2., 2., 2., 6., 2., 6., 5., 2., 6., 2., 2., 2., 2.,\n",
       "        6., 2., 6., 5., 2., 6., 2., 2., 2., 2., 6., 2., 6., 5., 2., 6., 2., 2.,\n",
       "        2., 2., 6., 2., 6., 5., 2., 6., 2., 2., 2., 2., 6., 2., 6., 5., 2., 6.,\n",
       "        2., 2., 2., 2., 6., 2., 6., 5., 2., 6., 2., 2., 2., 2., 6., 2., 6., 5.,\n",
       "        2., 6., 2., 2., 2., 2., 6., 2., 6., 5., 2., 6., 2., 2., 2., 2., 6., 2.,\n",
       "        6., 5., 2., 6., 2., 2., 2., 2., 6., 2., 6., 5., 2., 6., 2., 2., 2., 2.,\n",
       "        6., 2., 6., 5., 2., 6., 2., 2., 2., 2., 6., 2., 6., 5., 2., 6., 2., 2.,\n",
       "        2., 2., 6., 2., 6., 5., 2., 6., 2., 6., 4., 4., 6., 4., 6., 5., 4., 6.,\n",
       "        4., 4., 4., 4., 6., 4., 6., 5., 4., 6., 4., 4., 2., 2., 6., 2., 6., 5.,\n",
       "        2., 6., 2., 6., 4., 4., 6., 4., 6., 5., 4., 6., 4., 4., 4., 4., 6., 4.,\n",
       "        6., 5., 4., 6., 4., 4., 2., 2., 6., 2., 6., 5., 2., 6., 2., 6., 4., 4.,\n",
       "        6., 4., 6., 5., 4., 6., 4., 4., 4., 4., 6., 4., 6., 5., 4., 6., 4., 4.,\n",
       "        4., 4., 6., 4., 6., 5., 4., 6., 4., 4.])"
      ]
     },
     "execution_count": 290,
     "metadata": {},
     "output_type": "execute_result"
    }
   ],
   "source": [
    "optimal_policy_val_iter"
   ]
  },
  {
   "cell_type": "code",
   "execution_count": 386,
   "id": "2a0b9d03",
   "metadata": {},
   "outputs": [],
   "source": [
    "from collections import defaultdict\n",
    "\n",
    "def gen_epsilon_greedy_policy(n_action, epsilon):\n",
    "    def policy_function(state,Q):\n",
    "        index = state_space.index(state)\n",
    "        probs = torch.ones(n_action) * epsilon / n_action\n",
    "        best_action = torch.argmax(Q[index]).item()\n",
    "        probs[best_action] += 1.0 - epsilon\n",
    "        action = torch.multinomial(probs,1).item()\n",
    "        return action\n",
    "    return policy_function\n",
    "\n",
    "def q_learning(gamma,n_episode,alpha):\n",
    "    Q = defaultdict(lambda: torch.zeros(len(action_space)))\n",
    "    for episode in range(n_episode):\n",
    "        state_random_index = random.randint(0,999)\n",
    "        state = state_space[state_random_index]\n",
    "        for week in range(1,39):\n",
    "            # check from here\n",
    "            action = epsilon_greedy_policy(state,Q)\n",
    "            temp_state = take_action(state,action)\n",
    "            index_state = state_space.index(state)\n",
    "            reward, obj, next_state = get_state_players(week,temp_state)\n",
    "            index_next = state_space.index(next_state)\n",
    "            td_delta = reward + gamma * torch.max(Q[index_next]) - Q[index_state][action]\n",
    "            Q[index_state][action] += alpha * td_delta\n",
    "            \n",
    "            state = next_state\n",
    "    policy = {}\n",
    "    for state, actions in Q.items():\n",
    "        policy[state] = torch.argmax(actions).item()\n",
    "    return Q, policy"
   ]
  },
  {
   "cell_type": "code",
   "execution_count": 399,
   "id": "01b61ed0",
   "metadata": {},
   "outputs": [],
   "source": [
    "gamma = 0.9\n",
    "n_episode = 10000\n",
    "\n",
    "alpha = 0.4\n",
    "epsilon = 0.2\n",
    "\n",
    "epsilon_greedy_policy = gen_epsilon_greedy_policy(len(action_space), epsilon)\n",
    "\n",
    "optimal_Q, optimal_policy = q_learning(gamma, n_episode, alpha)"
   ]
  },
  {
   "cell_type": "code",
   "execution_count": 388,
   "id": "7cda2150",
   "metadata": {},
   "outputs": [
    {
     "data": {
      "text/plain": [
       "1000"
      ]
     },
     "execution_count": 388,
     "metadata": {},
     "output_type": "execute_result"
    }
   ],
   "source": [
    "len(optimal_Q)"
   ]
  },
  {
   "cell_type": "code",
   "execution_count": 389,
   "id": "01dd6f92",
   "metadata": {},
   "outputs": [
    {
     "data": {
      "text/plain": [
       "False"
      ]
     },
     "execution_count": 389,
     "metadata": {},
     "output_type": "execute_result"
    }
   ],
   "source": [
    "1000 in optimal_policy.keys()"
   ]
  },
  {
   "cell_type": "code",
   "execution_count": 400,
   "id": "05f92703",
   "metadata": {},
   "outputs": [],
   "source": [
    "num = len(optimal_Q)\n",
    "\n",
    "optimal_policy_Q_learning = torch.zeros(num)\n",
    "for key in optimal_policy.keys():\n",
    "    optimal_policy_Q_learning[key] = optimal_policy[key]"
   ]
  },
  {
   "cell_type": "code",
   "execution_count": 300,
   "id": "29f46305",
   "metadata": {},
   "outputs": [
    {
     "data": {
      "text/plain": [
       "tensor([2., 1., 5., 4., 0., 1., 1., 0., 0., 2., 6., 1., 4., 1., 6., 2., 2., 3.,\n",
       "        5., 1., 2., 3., 1., 4., 0., 6., 1., 6., 0., 3., 0., 0., 0., 3., 1., 2.,\n",
       "        0., 0., 1., 0., 0., 1., 0., 1., 0., 6., 0., 0., 0., 3., 0., 1., 1., 4.,\n",
       "        0., 6., 1., 0., 2., 2., 0., 3., 1., 3., 3., 0., 0., 2., 2., 4., 0., 0.,\n",
       "        0., 0., 3., 4., 1., 0., 0., 3., 2., 0., 0., 4., 0., 5., 1., 0., 5., 0.,\n",
       "        0., 0., 6., 1., 0., 0., 6., 1., 3., 1., 4., 0., 1., 0., 5., 4., 2., 0.,\n",
       "        0., 1., 6., 4., 2., 2., 5., 6., 3., 1., 1., 1., 5., 2., 6., 0., 0., 0.,\n",
       "        0., 1., 0., 1., 1., 4., 0., 3., 2., 2., 0., 0., 0., 4., 4., 1., 4., 1.,\n",
       "        0., 3., 4., 2., 3., 0., 1., 2., 0., 6., 0., 6., 0., 0., 5., 2., 3., 0.,\n",
       "        0., 2., 0., 4., 0., 0., 1., 0., 4., 0., 0., 2., 0., 1., 0., 0., 0., 5.,\n",
       "        6., 4., 0., 6., 1., 0., 3., 0., 0., 0., 0., 1., 2., 0., 1., 1., 3., 1.,\n",
       "        2., 4., 0., 6., 5., 2., 1., 0., 5., 0., 0., 0., 1., 0., 3., 3., 0., 3.,\n",
       "        2., 3., 2., 0., 4., 0., 0., 0., 0., 0., 0., 6., 4., 1., 0., 4., 0., 3.,\n",
       "        0., 0., 0., 2., 0., 2., 0., 0., 0., 4., 0., 0., 6., 3., 5., 0., 5., 0.,\n",
       "        1., 0., 4., 2., 0., 2., 1., 0., 0., 0., 2., 6., 3., 1., 2., 1., 4., 0.,\n",
       "        6., 2., 6., 0., 4., 0., 0., 3., 1., 2., 4., 0., 0., 6., 3., 1., 5., 4.,\n",
       "        1., 3., 0., 2., 0., 1., 5., 4., 0., 6., 6., 0., 0., 0., 1., 0., 0., 5.,\n",
       "        2., 0., 4., 0., 1., 0., 0., 2., 2., 2., 1., 0., 3., 3., 0., 1., 0., 1.,\n",
       "        4., 4., 3., 0., 3., 6., 2., 6., 0., 0., 1., 4., 0., 4., 0., 0., 0., 0.,\n",
       "        0., 3., 0., 0., 1., 4., 6., 1., 2., 3., 0., 3., 3., 1., 3., 4., 0., 4.,\n",
       "        2., 6., 5., 3., 4., 3., 2., 2., 0., 0., 2., 0., 1., 0., 6., 3., 3., 5.,\n",
       "        0., 2., 5., 5., 5., 0., 1., 1., 2., 2., 3., 2., 0., 6., 0., 0., 0., 0.,\n",
       "        0., 0., 0., 0., 0., 5., 4., 0., 2., 0., 0., 6., 0., 0., 3., 0., 5., 1.,\n",
       "        0., 0., 6., 6., 6., 0., 0., 0., 1., 0., 2., 3., 1., 6., 0., 5., 0., 0.,\n",
       "        1., 1., 1., 6., 0., 4., 2., 2., 0., 4., 0., 2., 2., 2., 5., 0., 2., 1.,\n",
       "        0., 5., 2., 1., 1., 0., 5., 0., 3., 1., 1., 1., 5., 5., 0., 0., 3., 2.,\n",
       "        2., 2., 5., 5., 4., 0., 0., 5., 0., 1., 0., 0., 4., 5., 0., 3., 2., 1.,\n",
       "        0., 1., 1., 1., 4., 0., 0., 0., 0., 1., 1., 1., 2., 0., 2., 4., 0., 5.,\n",
       "        4., 0., 1., 0., 4., 1., 5., 6., 0., 4., 5., 1., 0., 0., 3., 1., 3., 1.,\n",
       "        2., 2., 1., 2., 2., 1., 1., 1., 5., 2., 1., 0., 0., 6., 4., 6., 2., 0.,\n",
       "        0., 4., 0., 2., 3., 1., 0., 0., 1., 4., 6., 1., 1., 4., 5., 0., 0., 3.,\n",
       "        0., 3., 3., 1., 1., 4., 6., 0., 2., 0., 1., 3., 1., 1., 4., 0., 2., 1.,\n",
       "        3., 3., 0., 1., 2., 3., 2., 0., 0., 4., 6., 1., 3., 2., 1., 2., 0., 1.,\n",
       "        1., 4., 5., 1., 0., 1., 0., 0., 1., 4., 6., 0., 0., 0., 5., 0., 0., 4.,\n",
       "        0., 1., 2., 3., 6., 1., 2., 6., 2., 2., 0., 0., 0., 4., 5., 0., 0., 1.,\n",
       "        4., 0., 0., 1., 3., 0., 5., 3., 0., 0., 0., 6., 5., 0., 0., 5., 0., 1.,\n",
       "        0., 6., 3., 0., 0., 3., 0., 1., 0., 4., 0., 0., 0., 1., 2., 1., 0., 0.,\n",
       "        5., 0., 0., 3., 0., 2., 0., 0., 6., 3., 0., 0., 1., 1., 1., 1., 2., 3.,\n",
       "        5., 2., 6., 0., 0., 0., 0., 1., 0., 6., 0., 4., 4., 6., 0., 5., 0., 4.,\n",
       "        0., 0., 5., 0., 0., 2., 2., 1., 6., 4., 5., 4., 2., 5., 0., 2., 0., 5.,\n",
       "        3., 2., 1., 0., 1., 5., 5., 0., 2., 0., 3., 0., 1., 6., 6., 0., 1., 2.,\n",
       "        0., 0., 0., 0., 0., 1., 3., 2., 2., 0., 0., 2., 2., 5., 1., 2., 6., 3.,\n",
       "        2., 0., 0., 0., 2., 1., 6., 1., 3., 0., 1., 1., 0., 0., 5., 0., 0., 4.,\n",
       "        0., 0., 2., 0., 0., 0., 0., 6., 4., 3., 4., 0., 5., 2., 0., 3., 0., 3.,\n",
       "        3., 5., 3., 3., 3., 0., 6., 5., 4., 5., 0., 2., 6., 0., 4., 2., 3., 6.,\n",
       "        0., 4., 4., 1., 1., 0., 5., 3., 2., 0., 4., 6., 5., 0., 5., 1., 2., 1.,\n",
       "        0., 1., 0., 1., 2., 0., 2., 1., 2., 3., 4., 0., 0., 0., 4., 0., 6., 0.,\n",
       "        2., 5., 0., 0., 2., 0., 0., 2., 1., 3., 1., 1., 1., 0., 0., 6., 3., 2.,\n",
       "        1., 1., 0., 0., 0., 4., 0., 4., 3., 2., 6., 0., 2., 1., 5., 0., 2., 3.,\n",
       "        1., 0., 0., 0., 1., 6., 2., 2., 1., 1., 5., 0., 2., 2., 1., 1., 2., 0.,\n",
       "        1., 5., 5., 5., 1., 0., 1., 5., 1., 0., 1., 0., 2., 1., 2., 4., 1., 6.,\n",
       "        1., 0., 0., 0., 4., 5., 0., 2., 1., 0., 6., 1., 1., 1., 5., 1., 0., 6.,\n",
       "        0., 4., 1., 2., 1., 1., 0., 2., 0., 1., 1., 3., 0., 1., 0., 1., 4., 0.,\n",
       "        2., 0., 5., 1., 0., 6., 1., 5., 0., 2., 6., 2., 3., 5., 2., 3., 0., 1.,\n",
       "        0., 1., 0., 6., 0., 2., 6., 2., 6., 4., 0., 3., 1., 0., 4., 1., 3., 6.,\n",
       "        1., 6., 1., 0., 6., 1., 6., 1., 0., 0.])"
      ]
     },
     "execution_count": 300,
     "metadata": {},
     "output_type": "execute_result"
    }
   ],
   "source": [
    "optimal_policy_Q_learning"
   ]
  },
  {
   "cell_type": "code",
   "execution_count": 379,
   "id": "e0fd8955",
   "metadata": {},
   "outputs": [
    {
     "name": "stdout",
     "output_type": "stream",
     "text": [
      "Number of different values: 840\n"
     ]
    }
   ],
   "source": [
    "array1 = optimal_policy_val_iter.numpy()\n",
    "array2 = optimal_policy_Q_learning.numpy()\n",
    "\n",
    "# Find the number of different values\n",
    "num_different_values = np.sum(array1 != array2)\n",
    "\n",
    "print(\"Number of different values:\", num_different_values)"
   ]
  },
  {
   "cell_type": "code",
   "execution_count": 401,
   "id": "fcdee70a",
   "metadata": {},
   "outputs": [],
   "source": [
    "state = state_space[69]\n",
    "\n",
    "reward_Val_Iter = 0\n",
    "for week in range(1,39):\n",
    "    index = state_space.index(state)\n",
    "    action = int(optimal_policy_val_iter[index])\n",
    "    temp_state = take_action(state,action)\n",
    "    reward, obj, next_state = get_state_players(week,temp_state)\n",
    "    reward_Val_Iter += reward\n",
    "    state = next_state"
   ]
  },
  {
   "cell_type": "code",
   "execution_count": 402,
   "id": "9fed595c",
   "metadata": {},
   "outputs": [
    {
     "name": "stdout",
     "output_type": "stream",
     "text": [
      "727\n"
     ]
    }
   ],
   "source": [
    "print(reward_Val_Iter)"
   ]
  },
  {
   "cell_type": "code",
   "execution_count": 413,
   "id": "33808731",
   "metadata": {},
   "outputs": [],
   "source": [
    "state = state_space[1]\n",
    "\n",
    "reward_Q_learning = 0\n",
    "for week in range(1,39):\n",
    "    index = state_space.index(state)\n",
    "    action = int(optimal_policy_Q_learning[index])\n",
    "    temp_state = take_action(state,action)\n",
    "    reward, obj, next_state = get_state_players(week,temp_state)\n",
    "    reward_Q_learning += reward\n",
    "    state = next_state"
   ]
  },
  {
   "cell_type": "code",
   "execution_count": 414,
   "id": "9ba5b64f",
   "metadata": {},
   "outputs": [
    {
     "name": "stdout",
     "output_type": "stream",
     "text": [
      "763\n"
     ]
    }
   ],
   "source": [
    "print(reward_Q_learning)"
   ]
  },
  {
   "cell_type": "code",
   "execution_count": 411,
   "id": "1af376f3",
   "metadata": {},
   "outputs": [],
   "source": [
    "state = state_space[1]\n",
    "\n",
    "\n",
    "reward_Random = 0\n",
    "for iter_ in range(10):\n",
    "    for week in range(1,39):\n",
    "        index = state_space.index(state)\n",
    "        action = random.randint(0,6)\n",
    "        temp_state = take_action(state,action)\n",
    "        reward, obj, next_state = get_state_players(week,temp_state)\n",
    "        reward_Random += reward\n",
    "        state = next_state\n",
    "reward_Random /= 10"
   ]
  },
  {
   "cell_type": "code",
   "execution_count": 412,
   "id": "87e6453f",
   "metadata": {},
   "outputs": [
    {
     "name": "stdout",
     "output_type": "stream",
     "text": [
      "454.4\n"
     ]
    }
   ],
   "source": [
    "print(reward_Random)"
   ]
  },
  {
   "cell_type": "code",
   "execution_count": null,
   "id": "9a2f5a68",
   "metadata": {},
   "outputs": [],
   "source": []
  }
 ],
 "metadata": {
  "kernelspec": {
   "display_name": "Python 3",
   "language": "python",
   "name": "python3"
  },
  "language_info": {
   "codemirror_mode": {
    "name": "ipython",
    "version": 3
   },
   "file_extension": ".py",
   "mimetype": "text/x-python",
   "name": "python",
   "nbconvert_exporter": "python",
   "pygments_lexer": "ipython3",
   "version": "3.9.15"
  }
 },
 "nbformat": 4,
 "nbformat_minor": 5
}
