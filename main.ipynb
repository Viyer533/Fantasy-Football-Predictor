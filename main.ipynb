{
 "cells": [
  {
   "cell_type": "code",
   "execution_count": 49,
   "id": "1bacc5d5",
   "metadata": {},
   "outputs": [],
   "source": [
    "import pandas as pd"
   ]
  },
  {
   "cell_type": "code",
   "execution_count": 75,
   "id": "5fa17733",
   "metadata": {},
   "outputs": [],
   "source": [
    "import os\n",
    "from glob import glob\n",
    "PATH = os.getcwd()\n",
    "os.path.join(PATH, \"Fantasy-Premier-League\\data\\2016-17\\players\")\n",
    "EXT = \"*.csv\"\n",
    "all_csv_files = [file\n",
    "                 for path, subdir, files in os.walk(PATH)\n",
    "                 for file in glob(os.path.join(path, EXT)) if \"\\gw.csv\" in file]"
   ]
  },
  {
   "cell_type": "code",
   "execution_count": null,
   "id": "4996398a",
   "metadata": {},
   "outputs": [],
   "source": []
  },
  {
   "cell_type": "code",
   "execution_count": null,
   "id": "e34c35a6",
   "metadata": {},
   "outputs": [],
   "source": [
    "for file in all_csv_files:\n",
    "    "
   ]
  },
  {
   "cell_type": "code",
   "execution_count": 204,
   "id": "cf8ceeda",
   "metadata": {},
   "outputs": [],
   "source": [
    "data = []\n",
    "for file in all_csv_files:\n",
    "    dataframe = pd.read_csv(file)\n",
    "    \n",
    "#     temp = []\n",
    "#     print(dataframe.size)\n",
    "    for i in range(len(dataframe.index) - 10):\n",
    "        temp = []\n",
    "        for j in range(i, i + 10):\n",
    "            temp.append(dataframe.iloc[j][\n",
    "                                        ['assists',\n",
    "                                         'bonus',\n",
    "                                         'bps',\n",
    "                                         'clean_sheets',\n",
    "                                         'creativity',\n",
    "                                         'goals_conceded',\n",
    "                                         'goals_scored',\n",
    "                                         'ict_index',\n",
    "                                         'influence',\n",
    "                                         'minutes',\n",
    "                                         'opponent_team',\n",
    "                                         'own_goals',\n",
    "                                         'penalties_missed',\n",
    "                                         'penalties_saved',\n",
    "                                         'red_cards',\n",
    "                                         'saves',\n",
    "                                         'selected',\n",
    "                                         'team_a_score',\n",
    "                                         'team_h_score',\n",
    "                                         'threat',\n",
    "                                         'transfers_balance',\n",
    "                                         'transfers_in',\n",
    "                                         'transfers_out',\n",
    "                                         'value',\n",
    "                                         'was_home',\n",
    "                                         'yellow_cards']\n",
    "                                         ])\n",
    "            temp[len(temp) - 1][\"was_home\"] = int(temp[len(temp) - 1][\"was_home\"])\n",
    "        temp2 = [temp, dataframe.iloc[i+10][\"total_points\"]]\n",
    "        data.append(temp2)\n",
    "#         break\n",
    "#     break\n"
   ]
  },
  {
   "cell_type": "code",
   "execution_count": 206,
   "id": "f1c7eca5",
   "metadata": {},
   "outputs": [
    {
     "data": {
      "text/plain": [
       "17009"
      ]
     },
     "execution_count": 206,
     "metadata": {},
     "output_type": "execute_result"
    }
   ],
   "source": [
    "len(data)"
   ]
  },
  {
   "cell_type": "code",
   "execution_count": 207,
   "id": "077e5056",
   "metadata": {
    "scrolled": true
   },
   "outputs": [
    {
     "data": {
      "text/plain": [
       "26"
      ]
     },
     "execution_count": 207,
     "metadata": {},
     "output_type": "execute_result"
    }
   ],
   "source": [
    "len(data[0][0][0])"
   ]
  },
  {
   "cell_type": "code",
   "execution_count": 208,
   "id": "e1e500fc",
   "metadata": {},
   "outputs": [],
   "source": [
    "# data is total data\n",
    "# data[i] denotes one input unit which consists of a pair [[10, 26], 1] where first item of the pair is a sequence length 10 \n",
    "# denting 10 weeks of data and second item is the 11th week points "
   ]
  },
  {
   "cell_type": "code",
   "execution_count": 209,
   "id": "7c941b3b",
   "metadata": {},
   "outputs": [],
   "source": [
    "hmm = [[[[1, 2]]], 3]\n",
    "\n",
    "import pickle"
   ]
  },
  {
   "cell_type": "code",
   "execution_count": 215,
   "id": "611a4fbd",
   "metadata": {},
   "outputs": [
    {
     "data": {
      "text/plain": [
       "26"
      ]
     },
     "execution_count": 215,
     "metadata": {},
     "output_type": "execute_result"
    }
   ],
   "source": [
    "# len(data[0][0][0])"
   ]
  },
  {
   "cell_type": "code",
   "execution_count": 216,
   "id": "19e07bd9",
   "metadata": {},
   "outputs": [],
   "source": [
    "file = open(\"2016-17_pps.dat\", \"wb\")\n",
    "pickle.dump(data, file)\n",
    "file.close()"
   ]
  },
  {
   "cell_type": "code",
   "execution_count": 218,
   "id": "dcc51e86",
   "metadata": {},
   "outputs": [],
   "source": [
    "objects = []\n",
    "with (open(\"2016-17_pps.dat\", \"rb\")) as openfile:\n",
    "    while True:\n",
    "        try:\n",
    "            objects.append(pickle.load(openfile))\n",
    "        except EOFError:\n",
    "            break"
   ]
  },
  {
   "cell_type": "code",
   "execution_count": 217,
   "id": "dcb4e664",
   "metadata": {},
   "outputs": [
    {
     "name": "stdout",
     "output_type": "stream",
     "text": [
      "F\n"
     ]
    }
   ],
   "source": [
    "print(\"F\"\n",
    "     )"
   ]
  },
  {
   "cell_type": "code",
   "execution_count": 219,
   "id": "59c75ce8",
   "metadata": {},
   "outputs": [
    {
     "data": {
      "text/plain": [
       "1"
      ]
     },
     "execution_count": 219,
     "metadata": {},
     "output_type": "execute_result"
    }
   ],
   "source": [
    "len(objects)"
   ]
  },
  {
   "cell_type": "code",
   "execution_count": 220,
   "id": "24dde099",
   "metadata": {
    "scrolled": true
   },
   "outputs": [
    {
     "data": {
      "text/plain": [
       "17009"
      ]
     },
     "execution_count": 220,
     "metadata": {},
     "output_type": "execute_result"
    }
   ],
   "source": [
    "len(objects[0])"
   ]
  },
  {
   "cell_type": "code",
   "execution_count": 258,
   "id": "0c41d5f4",
   "metadata": {},
   "outputs": [],
   "source": [
    "trainX = []\n",
    "trainY = []"
   ]
  },
  {
   "cell_type": "code",
   "execution_count": 259,
   "id": "2c528ab3",
   "metadata": {},
   "outputs": [],
   "source": [
    "for i in data:\n",
    "    cur = i[0]\n",
    "    cur = pd.DataFrame(cur)\n",
    "    cur = cur.astype(float)\n",
    "    trainX.append(cur)\n",
    "    cur2 = i[1]\n",
    "    cur2 = pd.DataFrame([cur2])\n",
    "    cur2 = cur2.astype(float)\n",
    "    trainY.append(cur2)"
   ]
  },
  {
   "cell_type": "code",
   "execution_count": 234,
   "id": "64b143b3",
   "metadata": {},
   "outputs": [],
   "source": [
    "\n",
    "import numpy as np\n",
    "from tensorflow.keras.models import Sequential\n",
    "from tensorflow.keras.layers import LSTM\n",
    "from tensorflow.keras.layers import Dense, Dropout\n",
    "import pandas as pd\n",
    "from matplotlib import pyplot as plt\n",
    "from sklearn.preprocessing import StandardScaler\n",
    "import seaborn as sns"
   ]
  },
  {
   "cell_type": "code",
   "execution_count": 265,
   "id": "520febf2",
   "metadata": {},
   "outputs": [],
   "source": [
    "trainX = np.array(trainX)\n",
    "trainY = np.array(trainY)"
   ]
  },
  {
   "cell_type": "code",
   "execution_count": 260,
   "id": "773c46b2",
   "metadata": {},
   "outputs": [
    {
     "ename": "ValueError",
     "evalue": "Must pass 2-d input. shape=(17009, 10, 26)",
     "output_type": "error",
     "traceback": [
      "\u001b[1;31m---------------------------------------------------------------------------\u001b[0m",
      "\u001b[1;31mValueError\u001b[0m                                Traceback (most recent call last)",
      "Cell \u001b[1;32mIn[260], line 1\u001b[0m\n\u001b[1;32m----> 1\u001b[0m trainXdf \u001b[38;5;241m=\u001b[39m \u001b[43mpd\u001b[49m\u001b[38;5;241;43m.\u001b[39;49m\u001b[43mDataFrame\u001b[49m\u001b[43m(\u001b[49m\u001b[43mtrainX\u001b[49m\u001b[43m)\u001b[49m\n\u001b[0;32m      2\u001b[0m trainYdf \u001b[38;5;241m=\u001b[39m pd\u001b[38;5;241m.\u001b[39mDataFrame(trainY)\n",
      "File \u001b[1;32m~\\AppData\\Local\\Programs\\Python\\Python311\\Lib\\site-packages\\pandas\\core\\frame.py:762\u001b[0m, in \u001b[0;36mDataFrame.__init__\u001b[1;34m(self, data, index, columns, dtype, copy)\u001b[0m\n\u001b[0;32m    754\u001b[0m         mgr \u001b[38;5;241m=\u001b[39m arrays_to_mgr(\n\u001b[0;32m    755\u001b[0m             arrays,\n\u001b[0;32m    756\u001b[0m             columns,\n\u001b[1;32m   (...)\u001b[0m\n\u001b[0;32m    759\u001b[0m             typ\u001b[38;5;241m=\u001b[39mmanager,\n\u001b[0;32m    760\u001b[0m         )\n\u001b[0;32m    761\u001b[0m     \u001b[38;5;28;01melse\u001b[39;00m:\n\u001b[1;32m--> 762\u001b[0m         mgr \u001b[38;5;241m=\u001b[39m \u001b[43mndarray_to_mgr\u001b[49m\u001b[43m(\u001b[49m\n\u001b[0;32m    763\u001b[0m \u001b[43m            \u001b[49m\u001b[43mdata\u001b[49m\u001b[43m,\u001b[49m\n\u001b[0;32m    764\u001b[0m \u001b[43m            \u001b[49m\u001b[43mindex\u001b[49m\u001b[43m,\u001b[49m\n\u001b[0;32m    765\u001b[0m \u001b[43m            \u001b[49m\u001b[43mcolumns\u001b[49m\u001b[43m,\u001b[49m\n\u001b[0;32m    766\u001b[0m \u001b[43m            \u001b[49m\u001b[43mdtype\u001b[49m\u001b[38;5;241;43m=\u001b[39;49m\u001b[43mdtype\u001b[49m\u001b[43m,\u001b[49m\n\u001b[0;32m    767\u001b[0m \u001b[43m            \u001b[49m\u001b[43mcopy\u001b[49m\u001b[38;5;241;43m=\u001b[39;49m\u001b[43mcopy\u001b[49m\u001b[43m,\u001b[49m\n\u001b[0;32m    768\u001b[0m \u001b[43m            \u001b[49m\u001b[43mtyp\u001b[49m\u001b[38;5;241;43m=\u001b[39;49m\u001b[43mmanager\u001b[49m\u001b[43m,\u001b[49m\n\u001b[0;32m    769\u001b[0m \u001b[43m        \u001b[49m\u001b[43m)\u001b[49m\n\u001b[0;32m    770\u001b[0m \u001b[38;5;28;01melse\u001b[39;00m:\n\u001b[0;32m    771\u001b[0m     mgr \u001b[38;5;241m=\u001b[39m dict_to_mgr(\n\u001b[0;32m    772\u001b[0m         {},\n\u001b[0;32m    773\u001b[0m         index,\n\u001b[1;32m   (...)\u001b[0m\n\u001b[0;32m    776\u001b[0m         typ\u001b[38;5;241m=\u001b[39mmanager,\n\u001b[0;32m    777\u001b[0m     )\n",
      "File \u001b[1;32m~\\AppData\\Local\\Programs\\Python\\Python311\\Lib\\site-packages\\pandas\\core\\internals\\construction.py:329\u001b[0m, in \u001b[0;36mndarray_to_mgr\u001b[1;34m(values, index, columns, dtype, copy, typ)\u001b[0m\n\u001b[0;32m    324\u001b[0m         values \u001b[38;5;241m=\u001b[39m values\u001b[38;5;241m.\u001b[39mreshape(\u001b[38;5;241m-\u001b[39m\u001b[38;5;241m1\u001b[39m, \u001b[38;5;241m1\u001b[39m)\n\u001b[0;32m    326\u001b[0m \u001b[38;5;28;01melse\u001b[39;00m:\n\u001b[0;32m    327\u001b[0m     \u001b[38;5;66;03m# by definition an array here\u001b[39;00m\n\u001b[0;32m    328\u001b[0m     \u001b[38;5;66;03m# the dtypes will be coerced to a single dtype\u001b[39;00m\n\u001b[1;32m--> 329\u001b[0m     values \u001b[38;5;241m=\u001b[39m \u001b[43m_prep_ndarraylike\u001b[49m\u001b[43m(\u001b[49m\u001b[43mvalues\u001b[49m\u001b[43m,\u001b[49m\u001b[43m \u001b[49m\u001b[43mcopy\u001b[49m\u001b[38;5;241;43m=\u001b[39;49m\u001b[43mcopy_on_sanitize\u001b[49m\u001b[43m)\u001b[49m\n\u001b[0;32m    331\u001b[0m \u001b[38;5;28;01mif\u001b[39;00m dtype \u001b[38;5;129;01mis\u001b[39;00m \u001b[38;5;129;01mnot\u001b[39;00m \u001b[38;5;28;01mNone\u001b[39;00m \u001b[38;5;129;01mand\u001b[39;00m \u001b[38;5;129;01mnot\u001b[39;00m is_dtype_equal(values\u001b[38;5;241m.\u001b[39mdtype, dtype):\n\u001b[0;32m    332\u001b[0m     \u001b[38;5;66;03m# GH#40110 see similar check inside sanitize_array\u001b[39;00m\n\u001b[0;32m    333\u001b[0m     rcf \u001b[38;5;241m=\u001b[39m \u001b[38;5;129;01mnot\u001b[39;00m (is_integer_dtype(dtype) \u001b[38;5;129;01mand\u001b[39;00m values\u001b[38;5;241m.\u001b[39mdtype\u001b[38;5;241m.\u001b[39mkind \u001b[38;5;241m==\u001b[39m \u001b[38;5;124m\"\u001b[39m\u001b[38;5;124mf\u001b[39m\u001b[38;5;124m\"\u001b[39m)\n",
      "File \u001b[1;32m~\\AppData\\Local\\Programs\\Python\\Python311\\Lib\\site-packages\\pandas\\core\\internals\\construction.py:583\u001b[0m, in \u001b[0;36m_prep_ndarraylike\u001b[1;34m(values, copy)\u001b[0m\n\u001b[0;32m    581\u001b[0m     values \u001b[38;5;241m=\u001b[39m values\u001b[38;5;241m.\u001b[39mreshape((values\u001b[38;5;241m.\u001b[39mshape[\u001b[38;5;241m0\u001b[39m], \u001b[38;5;241m1\u001b[39m))\n\u001b[0;32m    582\u001b[0m \u001b[38;5;28;01melif\u001b[39;00m values\u001b[38;5;241m.\u001b[39mndim \u001b[38;5;241m!=\u001b[39m \u001b[38;5;241m2\u001b[39m:\n\u001b[1;32m--> 583\u001b[0m     \u001b[38;5;28;01mraise\u001b[39;00m \u001b[38;5;167;01mValueError\u001b[39;00m(\u001b[38;5;124mf\u001b[39m\u001b[38;5;124m\"\u001b[39m\u001b[38;5;124mMust pass 2-d input. shape=\u001b[39m\u001b[38;5;132;01m{\u001b[39;00mvalues\u001b[38;5;241m.\u001b[39mshape\u001b[38;5;132;01m}\u001b[39;00m\u001b[38;5;124m\"\u001b[39m)\n\u001b[0;32m    585\u001b[0m \u001b[38;5;28;01mreturn\u001b[39;00m values\n",
      "\u001b[1;31mValueError\u001b[0m: Must pass 2-d input. shape=(17009, 10, 26)"
     ]
    }
   ],
   "source": [
    "trainXdf = pd.DataFrame(trainX)\n",
    "trainYdf = pd.DataFrame(trainY)"
   ]
  },
  {
   "cell_type": "code",
   "execution_count": 250,
   "id": "d5bc4539",
   "metadata": {},
   "outputs": [
    {
     "name": "stdout",
     "output_type": "stream",
     "text": [
      "0\n",
      "<class 'int'>\n"
     ]
    },
    {
     "ename": "AttributeError",
     "evalue": "'int' object has no attribute 'astype'",
     "output_type": "error",
     "traceback": [
      "\u001b[1;31m---------------------------------------------------------------------------\u001b[0m",
      "\u001b[1;31mAttributeError\u001b[0m                            Traceback (most recent call last)",
      "Cell \u001b[1;32mIn[250], line 4\u001b[0m\n\u001b[0;32m      2\u001b[0m \u001b[38;5;28mprint\u001b[39m(i)\n\u001b[0;32m      3\u001b[0m \u001b[38;5;28mprint\u001b[39m(\u001b[38;5;28mtype\u001b[39m(i))\n\u001b[1;32m----> 4\u001b[0m i \u001b[38;5;241m=\u001b[39m \u001b[43mi\u001b[49m\u001b[38;5;241;43m.\u001b[39;49m\u001b[43mastype\u001b[49m(\u001b[38;5;28mfloat\u001b[39m)\n",
      "\u001b[1;31mAttributeError\u001b[0m: 'int' object has no attribute 'astype'"
     ]
    }
   ],
   "source": [
    "\n"
   ]
  },
  {
   "cell_type": "code",
   "execution_count": 262,
   "id": "b1f136d5",
   "metadata": {},
   "outputs": [
    {
     "ename": "ValueError",
     "evalue": "Found array with dim 3. StandardScaler expected <= 2.",
     "output_type": "error",
     "traceback": [
      "\u001b[1;31m---------------------------------------------------------------------------\u001b[0m",
      "\u001b[1;31mValueError\u001b[0m                                Traceback (most recent call last)",
      "Cell \u001b[1;32mIn[262], line 2\u001b[0m\n\u001b[0;32m      1\u001b[0m scaler \u001b[38;5;241m=\u001b[39m StandardScaler()\n\u001b[1;32m----> 2\u001b[0m scalerX \u001b[38;5;241m=\u001b[39m \u001b[43mscaler\u001b[49m\u001b[38;5;241;43m.\u001b[39;49m\u001b[43mfit\u001b[49m\u001b[43m(\u001b[49m\u001b[43mtrainX\u001b[49m\u001b[43m)\u001b[49m\n\u001b[0;32m      3\u001b[0m trainXdf_scaled \u001b[38;5;241m=\u001b[39m scalerX\u001b[38;5;241m.\u001b[39mtransform(trainX)\n\u001b[0;32m      4\u001b[0m scalerY \u001b[38;5;241m=\u001b[39m scaler\u001b[38;5;241m.\u001b[39mfit(trainY)\n",
      "File \u001b[1;32m~\\AppData\\Local\\Programs\\Python\\Python311\\Lib\\site-packages\\sklearn\\preprocessing\\_data.py:824\u001b[0m, in \u001b[0;36mStandardScaler.fit\u001b[1;34m(self, X, y, sample_weight)\u001b[0m\n\u001b[0;32m    822\u001b[0m \u001b[38;5;66;03m# Reset internal state before fitting\u001b[39;00m\n\u001b[0;32m    823\u001b[0m \u001b[38;5;28mself\u001b[39m\u001b[38;5;241m.\u001b[39m_reset()\n\u001b[1;32m--> 824\u001b[0m \u001b[38;5;28;01mreturn\u001b[39;00m \u001b[38;5;28;43mself\u001b[39;49m\u001b[38;5;241;43m.\u001b[39;49m\u001b[43mpartial_fit\u001b[49m\u001b[43m(\u001b[49m\u001b[43mX\u001b[49m\u001b[43m,\u001b[49m\u001b[43m \u001b[49m\u001b[43my\u001b[49m\u001b[43m,\u001b[49m\u001b[43m \u001b[49m\u001b[43msample_weight\u001b[49m\u001b[43m)\u001b[49m\n",
      "File \u001b[1;32m~\\AppData\\Local\\Programs\\Python\\Python311\\Lib\\site-packages\\sklearn\\preprocessing\\_data.py:861\u001b[0m, in \u001b[0;36mStandardScaler.partial_fit\u001b[1;34m(self, X, y, sample_weight)\u001b[0m\n\u001b[0;32m    858\u001b[0m \u001b[38;5;28mself\u001b[39m\u001b[38;5;241m.\u001b[39m_validate_params()\n\u001b[0;32m    860\u001b[0m first_call \u001b[38;5;241m=\u001b[39m \u001b[38;5;129;01mnot\u001b[39;00m \u001b[38;5;28mhasattr\u001b[39m(\u001b[38;5;28mself\u001b[39m, \u001b[38;5;124m\"\u001b[39m\u001b[38;5;124mn_samples_seen_\u001b[39m\u001b[38;5;124m\"\u001b[39m)\n\u001b[1;32m--> 861\u001b[0m X \u001b[38;5;241m=\u001b[39m \u001b[38;5;28;43mself\u001b[39;49m\u001b[38;5;241;43m.\u001b[39;49m\u001b[43m_validate_data\u001b[49m\u001b[43m(\u001b[49m\n\u001b[0;32m    862\u001b[0m \u001b[43m    \u001b[49m\u001b[43mX\u001b[49m\u001b[43m,\u001b[49m\n\u001b[0;32m    863\u001b[0m \u001b[43m    \u001b[49m\u001b[43maccept_sparse\u001b[49m\u001b[38;5;241;43m=\u001b[39;49m\u001b[43m(\u001b[49m\u001b[38;5;124;43m\"\u001b[39;49m\u001b[38;5;124;43mcsr\u001b[39;49m\u001b[38;5;124;43m\"\u001b[39;49m\u001b[43m,\u001b[49m\u001b[43m \u001b[49m\u001b[38;5;124;43m\"\u001b[39;49m\u001b[38;5;124;43mcsc\u001b[39;49m\u001b[38;5;124;43m\"\u001b[39;49m\u001b[43m)\u001b[49m\u001b[43m,\u001b[49m\n\u001b[0;32m    864\u001b[0m \u001b[43m    \u001b[49m\u001b[43mdtype\u001b[49m\u001b[38;5;241;43m=\u001b[39;49m\u001b[43mFLOAT_DTYPES\u001b[49m\u001b[43m,\u001b[49m\n\u001b[0;32m    865\u001b[0m \u001b[43m    \u001b[49m\u001b[43mforce_all_finite\u001b[49m\u001b[38;5;241;43m=\u001b[39;49m\u001b[38;5;124;43m\"\u001b[39;49m\u001b[38;5;124;43mallow-nan\u001b[39;49m\u001b[38;5;124;43m\"\u001b[39;49m\u001b[43m,\u001b[49m\n\u001b[0;32m    866\u001b[0m \u001b[43m    \u001b[49m\u001b[43mreset\u001b[49m\u001b[38;5;241;43m=\u001b[39;49m\u001b[43mfirst_call\u001b[49m\u001b[43m,\u001b[49m\n\u001b[0;32m    867\u001b[0m \u001b[43m\u001b[49m\u001b[43m)\u001b[49m\n\u001b[0;32m    868\u001b[0m n_features \u001b[38;5;241m=\u001b[39m X\u001b[38;5;241m.\u001b[39mshape[\u001b[38;5;241m1\u001b[39m]\n\u001b[0;32m    870\u001b[0m \u001b[38;5;28;01mif\u001b[39;00m sample_weight \u001b[38;5;129;01mis\u001b[39;00m \u001b[38;5;129;01mnot\u001b[39;00m \u001b[38;5;28;01mNone\u001b[39;00m:\n",
      "File \u001b[1;32m~\\AppData\\Local\\Programs\\Python\\Python311\\Lib\\site-packages\\sklearn\\base.py:546\u001b[0m, in \u001b[0;36mBaseEstimator._validate_data\u001b[1;34m(self, X, y, reset, validate_separately, **check_params)\u001b[0m\n\u001b[0;32m    544\u001b[0m     \u001b[38;5;28;01mraise\u001b[39;00m \u001b[38;5;167;01mValueError\u001b[39;00m(\u001b[38;5;124m\"\u001b[39m\u001b[38;5;124mValidation should be done on X, y or both.\u001b[39m\u001b[38;5;124m\"\u001b[39m)\n\u001b[0;32m    545\u001b[0m \u001b[38;5;28;01melif\u001b[39;00m \u001b[38;5;129;01mnot\u001b[39;00m no_val_X \u001b[38;5;129;01mand\u001b[39;00m no_val_y:\n\u001b[1;32m--> 546\u001b[0m     X \u001b[38;5;241m=\u001b[39m \u001b[43mcheck_array\u001b[49m\u001b[43m(\u001b[49m\u001b[43mX\u001b[49m\u001b[43m,\u001b[49m\u001b[43m \u001b[49m\u001b[43minput_name\u001b[49m\u001b[38;5;241;43m=\u001b[39;49m\u001b[38;5;124;43m\"\u001b[39;49m\u001b[38;5;124;43mX\u001b[39;49m\u001b[38;5;124;43m\"\u001b[39;49m\u001b[43m,\u001b[49m\u001b[43m \u001b[49m\u001b[38;5;241;43m*\u001b[39;49m\u001b[38;5;241;43m*\u001b[39;49m\u001b[43mcheck_params\u001b[49m\u001b[43m)\u001b[49m\n\u001b[0;32m    547\u001b[0m     out \u001b[38;5;241m=\u001b[39m X\n\u001b[0;32m    548\u001b[0m \u001b[38;5;28;01melif\u001b[39;00m no_val_X \u001b[38;5;129;01mand\u001b[39;00m \u001b[38;5;129;01mnot\u001b[39;00m no_val_y:\n",
      "File \u001b[1;32m~\\AppData\\Local\\Programs\\Python\\Python311\\Lib\\site-packages\\sklearn\\utils\\validation.py:915\u001b[0m, in \u001b[0;36mcheck_array\u001b[1;34m(array, accept_sparse, accept_large_sparse, dtype, order, copy, force_all_finite, ensure_2d, allow_nd, ensure_min_samples, ensure_min_features, estimator, input_name)\u001b[0m\n\u001b[0;32m    910\u001b[0m     \u001b[38;5;28;01mraise\u001b[39;00m \u001b[38;5;167;01mValueError\u001b[39;00m(\n\u001b[0;32m    911\u001b[0m         \u001b[38;5;124m\"\u001b[39m\u001b[38;5;124mdtype=\u001b[39m\u001b[38;5;124m'\u001b[39m\u001b[38;5;124mnumeric\u001b[39m\u001b[38;5;124m'\u001b[39m\u001b[38;5;124m is not compatible with arrays of bytes/strings.\u001b[39m\u001b[38;5;124m\"\u001b[39m\n\u001b[0;32m    912\u001b[0m         \u001b[38;5;124m\"\u001b[39m\u001b[38;5;124mConvert your data to numeric values explicitly instead.\u001b[39m\u001b[38;5;124m\"\u001b[39m\n\u001b[0;32m    913\u001b[0m     )\n\u001b[0;32m    914\u001b[0m \u001b[38;5;28;01mif\u001b[39;00m \u001b[38;5;129;01mnot\u001b[39;00m allow_nd \u001b[38;5;129;01mand\u001b[39;00m array\u001b[38;5;241m.\u001b[39mndim \u001b[38;5;241m>\u001b[39m\u001b[38;5;241m=\u001b[39m \u001b[38;5;241m3\u001b[39m:\n\u001b[1;32m--> 915\u001b[0m     \u001b[38;5;28;01mraise\u001b[39;00m \u001b[38;5;167;01mValueError\u001b[39;00m(\n\u001b[0;32m    916\u001b[0m         \u001b[38;5;124m\"\u001b[39m\u001b[38;5;124mFound array with dim \u001b[39m\u001b[38;5;132;01m%d\u001b[39;00m\u001b[38;5;124m. \u001b[39m\u001b[38;5;132;01m%s\u001b[39;00m\u001b[38;5;124m expected <= 2.\u001b[39m\u001b[38;5;124m\"\u001b[39m\n\u001b[0;32m    917\u001b[0m         \u001b[38;5;241m%\u001b[39m (array\u001b[38;5;241m.\u001b[39mndim, estimator_name)\n\u001b[0;32m    918\u001b[0m     )\n\u001b[0;32m    920\u001b[0m \u001b[38;5;28;01mif\u001b[39;00m force_all_finite:\n\u001b[0;32m    921\u001b[0m     _assert_all_finite(\n\u001b[0;32m    922\u001b[0m         array,\n\u001b[0;32m    923\u001b[0m         input_name\u001b[38;5;241m=\u001b[39minput_name,\n\u001b[0;32m    924\u001b[0m         estimator_name\u001b[38;5;241m=\u001b[39mestimator_name,\n\u001b[0;32m    925\u001b[0m         allow_nan\u001b[38;5;241m=\u001b[39mforce_all_finite \u001b[38;5;241m==\u001b[39m \u001b[38;5;124m\"\u001b[39m\u001b[38;5;124mallow-nan\u001b[39m\u001b[38;5;124m\"\u001b[39m,\n\u001b[0;32m    926\u001b[0m     )\n",
      "\u001b[1;31mValueError\u001b[0m: Found array with dim 3. StandardScaler expected <= 2."
     ]
    }
   ],
   "source": [
    "scaler = StandardScaler()\n",
    "scalerX = scaler.fit(trainX)\n",
    "trainXdf_scaled = scalerX.transform(trainX)\n",
    "scalerY = scaler.fit(trainY)\n",
    "trainYdf_scaled = scalerY.transform(trainY)"
   ]
  },
  {
   "cell_type": "code",
   "execution_count": 270,
   "id": "073182cd",
   "metadata": {},
   "outputs": [],
   "source": [
    "scaler = StandardScaler()\n",
    "trainX = scaler.fit_transform(trainX.reshape(-1, trainX.shape[-1])).reshape(trainX.shape)\n",
    "# scaler2  = StandardScaler()\n",
    "# trainY = scaler2.fit_transform(trainY.reshape(-1, trainY.shape[-1])).reshape(trainY.shape)"
   ]
  },
  {
   "cell_type": "code",
   "execution_count": 271,
   "id": "737da670",
   "metadata": {},
   "outputs": [
    {
     "data": {
      "text/plain": [
       "array([[[-0.18865477, -0.21732484, -0.6157846 , ...,  0.25864099,\n",
       "         -1.00009407, -0.25166442],\n",
       "        [-0.18865477, -0.21732484, -0.6157846 , ...,  0.25864099,\n",
       "          0.99990594, -0.25166442],\n",
       "        [-0.18865477, -0.21732484, -0.6157846 , ...,  0.17988962,\n",
       "         -1.00009407, -0.25166442],\n",
       "        ...,\n",
       "        [ 4.55252291, -0.21732484,  1.67388623, ...,  0.10113826,\n",
       "         -1.00009407, -0.25166442],\n",
       "        [-0.18865477, -0.21732484, -0.6157846 , ...,  0.10113826,\n",
       "          0.99990594, -0.25166442],\n",
       "        [-0.18865477, -0.21732484,  0.57882627, ...,  0.10113826,\n",
       "         -1.00009407, -0.25166442]],\n",
       "\n",
       "       [[-0.18865477, -0.21732484, -0.6157846 , ...,  0.25864099,\n",
       "          0.99990594, -0.25166442],\n",
       "        [-0.18865477, -0.21732484, -0.6157846 , ...,  0.17988962,\n",
       "         -1.00009407, -0.25166442],\n",
       "        [-0.18865477, -0.21732484, -0.6157846 , ...,  0.17988962,\n",
       "          0.99990594, -0.25166442],\n",
       "        ...,\n",
       "        [-0.18865477, -0.21732484, -0.6157846 , ...,  0.10113826,\n",
       "          0.99990594, -0.25166442],\n",
       "        [-0.18865477, -0.21732484,  0.57882627, ...,  0.10113826,\n",
       "         -1.00009407, -0.25166442],\n",
       "        [-0.18865477, -0.21732484,  0.67837718, ...,  0.10113826,\n",
       "          0.99990594, -0.25166442]],\n",
       "\n",
       "       [[-0.18865477, -0.21732484, -0.6157846 , ...,  0.17988962,\n",
       "         -1.00009407, -0.25166442],\n",
       "        [-0.18865477, -0.21732484, -0.6157846 , ...,  0.17988962,\n",
       "          0.99990594, -0.25166442],\n",
       "        [-0.18865477, -0.21732484, -0.6157846 , ...,  0.17988962,\n",
       "         -1.00009407, -0.25166442],\n",
       "        ...,\n",
       "        [-0.18865477, -0.21732484,  0.57882627, ...,  0.10113826,\n",
       "         -1.00009407, -0.25166442],\n",
       "        [-0.18865477, -0.21732484,  0.67837718, ...,  0.10113826,\n",
       "          0.99990594, -0.25166442],\n",
       "        [-0.18865477, -0.21732484,  0.67837718, ...,  0.10113826,\n",
       "         -1.00009407, -0.25166442]],\n",
       "\n",
       "       ...,\n",
       "\n",
       "       [[-0.18865477, -0.21732484, -0.51623369, ...,  0.88865193,\n",
       "         -1.00009407, -0.25166442],\n",
       "        [-0.18865477, -0.21732484, -0.6157846 , ...,  0.80990056,\n",
       "         -1.00009407, -0.25166442],\n",
       "        [-0.18865477, -0.21732484, -0.21758097, ...,  0.80990056,\n",
       "          0.99990594, -0.25166442],\n",
       "        ...,\n",
       "        [-0.18865477, -0.21732484,  0.47927537, ...,  0.88865193,\n",
       "         -1.00009407, -0.25166442],\n",
       "        [-0.18865477, -0.21732484,  0.18062265, ...,  0.88865193,\n",
       "          0.99990594, -0.25166442],\n",
       "        [ 4.55252291,  3.92461939,  3.36625163, ...,  0.80990056,\n",
       "          0.99990594, -0.25166442]],\n",
       "\n",
       "       [[-0.18865477, -0.21732484, -0.6157846 , ...,  0.80990056,\n",
       "         -1.00009407, -0.25166442],\n",
       "        [-0.18865477, -0.21732484, -0.21758097, ...,  0.80990056,\n",
       "          0.99990594, -0.25166442],\n",
       "        [-0.18865477, -0.21732484,  0.37972446, ...,  0.73114919,\n",
       "         -1.00009407,  3.97354543],\n",
       "        ...,\n",
       "        [-0.18865477, -0.21732484,  0.18062265, ...,  0.88865193,\n",
       "          0.99990594, -0.25166442],\n",
       "        [ 4.55252291,  3.92461939,  3.36625163, ...,  0.80990056,\n",
       "          0.99990594, -0.25166442],\n",
       "        [-0.18865477, -0.21732484, -0.01847916, ...,  0.80990056,\n",
       "         -1.00009407, -0.25166442]],\n",
       "\n",
       "       [[-0.18865477, -0.21732484, -0.21758097, ...,  0.80990056,\n",
       "          0.99990594, -0.25166442],\n",
       "        [-0.18865477, -0.21732484,  0.37972446, ...,  0.73114919,\n",
       "         -1.00009407,  3.97354543],\n",
       "        [-0.18865477, -0.21732484,  2.66939529, ...,  0.73114919,\n",
       "         -1.00009407, -0.25166442],\n",
       "        ...,\n",
       "        [ 4.55252291,  3.92461939,  3.36625163, ...,  0.80990056,\n",
       "          0.99990594, -0.25166442],\n",
       "        [-0.18865477, -0.21732484, -0.01847916, ...,  0.80990056,\n",
       "         -1.00009407, -0.25166442],\n",
       "        [-0.18865477, -0.21732484,  0.08107174, ...,  0.73114919,\n",
       "          0.99990594, -0.25166442]]])"
      ]
     },
     "execution_count": 271,
     "metadata": {},
     "output_type": "execute_result"
    }
   ],
   "source": [
    "trainX"
   ]
  },
  {
   "cell_type": "code",
   "execution_count": 277,
   "id": "4dab8e07",
   "metadata": {},
   "outputs": [],
   "source": [
    "trainY = trainY.reshape([17009, 1])"
   ]
  },
  {
   "cell_type": "code",
   "execution_count": 280,
   "id": "d378283e",
   "metadata": {},
   "outputs": [
    {
     "name": "stdout",
     "output_type": "stream",
     "text": [
      "Model: \"sequential\"\n",
      "_________________________________________________________________\n",
      " Layer (type)                Output Shape              Param #   \n",
      "=================================================================\n",
      " lstm (LSTM)                 (None, 10, 64)            23296     \n",
      "                                                                 \n",
      " lstm_1 (LSTM)               (None, 32)                12416     \n",
      "                                                                 \n",
      " dropout (Dropout)           (None, 32)                0         \n",
      "                                                                 \n",
      " dense (Dense)               (None, 1)                 33        \n",
      "                                                                 \n",
      "=================================================================\n",
      "Total params: 35,745\n",
      "Trainable params: 35,745\n",
      "Non-trainable params: 0\n",
      "_________________________________________________________________\n"
     ]
    }
   ],
   "source": [
    "model = Sequential()\n",
    "model.add(LSTM(64, activation='relu', input_shape=(trainX.shape[1], trainX.shape[2]), return_sequences=True))\n",
    "model.add(LSTM(32, activation='relu', return_sequences=False))\n",
    "model.add(Dropout(0.2))\n",
    "model.add(Dense(trainY.shape[1]))\n",
    "\n",
    "model.compile(optimizer='adam', loss='mse')\n",
    "model.summary()"
   ]
  },
  {
   "cell_type": "code",
   "execution_count": 284,
   "id": "bd0c73fd",
   "metadata": {},
   "outputs": [
    {
     "name": "stdout",
     "output_type": "stream",
     "text": [
      "Epoch 1/50\n",
      "957/957 [==============================] - 8s 9ms/step - loss: 0.6599 - val_loss: 0.6962\n",
      "Epoch 2/50\n",
      "957/957 [==============================] - 8s 9ms/step - loss: 0.6470 - val_loss: 0.6987\n",
      "Epoch 3/50\n",
      "957/957 [==============================] - 8s 8ms/step - loss: 0.6297 - val_loss: 0.7062\n",
      "Epoch 4/50\n",
      "957/957 [==============================] - 8s 8ms/step - loss: 0.6053 - val_loss: 0.7653\n",
      "Epoch 5/50\n",
      "957/957 [==============================] - 8s 9ms/step - loss: 0.5793 - val_loss: 0.7131\n",
      "Epoch 6/50\n",
      "957/957 [==============================] - 8s 8ms/step - loss: 0.5661 - val_loss: 0.7808\n",
      "Epoch 7/50\n",
      "957/957 [==============================] - 8s 9ms/step - loss: 0.5446 - val_loss: 0.7381\n",
      "Epoch 8/50\n",
      "957/957 [==============================] - 8s 9ms/step - loss: 0.5050 - val_loss: 0.7646\n",
      "Epoch 9/50\n",
      "957/957 [==============================] - 8s 9ms/step - loss: 0.4887 - val_loss: 0.7597\n",
      "Epoch 10/50\n",
      "957/957 [==============================] - 8s 9ms/step - loss: 0.4565 - val_loss: 0.7881\n",
      "Epoch 11/50\n",
      "957/957 [==============================] - 8s 9ms/step - loss: 0.4372 - val_loss: 0.7643\n",
      "Epoch 12/50\n",
      "957/957 [==============================] - 8s 9ms/step - loss: 0.4136 - val_loss: 0.7878\n",
      "Epoch 13/50\n",
      "957/957 [==============================] - 8s 9ms/step - loss: 0.3849 - val_loss: 0.8539\n",
      "Epoch 14/50\n",
      "957/957 [==============================] - 8s 9ms/step - loss: 0.3651 - val_loss: 0.8916\n",
      "Epoch 15/50\n",
      "957/957 [==============================] - 8s 9ms/step - loss: 0.3660 - val_loss: 0.8928\n",
      "Epoch 16/50\n",
      "957/957 [==============================] - 8s 9ms/step - loss: 0.3342 - val_loss: 0.8934\n",
      "Epoch 17/50\n",
      "957/957 [==============================] - 8s 9ms/step - loss: 0.3245 - val_loss: 0.9328\n",
      "Epoch 18/50\n",
      "957/957 [==============================] - 8s 9ms/step - loss: 0.3054 - val_loss: 0.9332\n",
      "Epoch 19/50\n",
      "957/957 [==============================] - 8s 9ms/step - loss: 0.2937 - val_loss: 0.9177\n",
      "Epoch 20/50\n",
      "957/957 [==============================] - 8s 9ms/step - loss: 0.2781 - val_loss: 0.8735\n",
      "Epoch 21/50\n",
      "957/957 [==============================] - 8s 9ms/step - loss: 0.2692 - val_loss: 1.0648\n",
      "Epoch 22/50\n",
      "957/957 [==============================] - 8s 9ms/step - loss: 0.2618 - val_loss: 0.9488\n",
      "Epoch 23/50\n",
      "957/957 [==============================] - 9s 9ms/step - loss: 0.2468 - val_loss: 0.9157\n",
      "Epoch 24/50\n",
      "957/957 [==============================] - 8s 9ms/step - loss: 0.2389 - val_loss: 0.9475\n",
      "Epoch 25/50\n",
      "957/957 [==============================] - 9s 9ms/step - loss: 0.2348 - val_loss: 0.9680\n",
      "Epoch 26/50\n",
      "957/957 [==============================] - 8s 8ms/step - loss: 0.2279 - val_loss: 0.9062\n",
      "Epoch 27/50\n",
      "957/957 [==============================] - 8s 8ms/step - loss: 0.2175 - val_loss: 0.9261\n",
      "Epoch 28/50\n",
      "957/957 [==============================] - 8s 9ms/step - loss: 0.2176 - val_loss: 0.9539\n",
      "Epoch 29/50\n",
      "957/957 [==============================] - 8s 8ms/step - loss: 0.2135 - val_loss: 0.9836\n",
      "Epoch 30/50\n",
      "957/957 [==============================] - 8s 9ms/step - loss: 0.2010 - val_loss: 0.8801\n",
      "Epoch 31/50\n",
      "957/957 [==============================] - 8s 9ms/step - loss: 0.1994 - val_loss: 0.9879\n",
      "Epoch 32/50\n",
      "957/957 [==============================] - 8s 8ms/step - loss: 0.1887 - val_loss: 0.9295\n",
      "Epoch 33/50\n",
      "957/957 [==============================] - 8s 9ms/step - loss: 0.1845 - val_loss: 0.9296\n",
      "Epoch 34/50\n",
      "957/957 [==============================] - 9s 9ms/step - loss: 0.1857 - val_loss: 0.9972\n",
      "Epoch 35/50\n",
      "957/957 [==============================] - 8s 9ms/step - loss: 0.1735 - val_loss: 1.0354\n",
      "Epoch 36/50\n",
      "957/957 [==============================] - 8s 9ms/step - loss: 0.1772 - val_loss: 0.9573\n",
      "Epoch 37/50\n",
      "957/957 [==============================] - 8s 9ms/step - loss: 0.1757 - val_loss: 0.9313\n",
      "Epoch 38/50\n",
      "957/957 [==============================] - 8s 9ms/step - loss: 0.1638 - val_loss: 0.8916\n",
      "Epoch 39/50\n",
      "957/957 [==============================] - 8s 9ms/step - loss: 0.1618 - val_loss: 0.9843\n",
      "Epoch 40/50\n",
      "957/957 [==============================] - 8s 8ms/step - loss: 0.1600 - val_loss: 0.9992\n",
      "Epoch 41/50\n",
      "957/957 [==============================] - 8s 9ms/step - loss: 0.1593 - val_loss: 0.9517\n",
      "Epoch 42/50\n",
      "957/957 [==============================] - 8s 9ms/step - loss: 0.1581 - val_loss: 0.9310\n",
      "Epoch 43/50\n",
      "957/957 [==============================] - 8s 9ms/step - loss: 0.1486 - val_loss: 0.9551\n",
      "Epoch 44/50\n",
      "957/957 [==============================] - 8s 9ms/step - loss: 0.1506 - val_loss: 0.9552\n",
      "Epoch 45/50\n",
      "957/957 [==============================] - 8s 9ms/step - loss: 0.1479 - val_loss: 0.9367\n",
      "Epoch 46/50\n",
      "957/957 [==============================] - 8s 9ms/step - loss: 0.1494 - val_loss: 0.9805\n",
      "Epoch 47/50\n",
      "957/957 [==============================] - 8s 9ms/step - loss: 0.1461 - val_loss: 1.0067\n",
      "Epoch 48/50\n",
      "957/957 [==============================] - 8s 9ms/step - loss: 0.1387 - val_loss: 0.9961\n",
      "Epoch 49/50\n",
      "957/957 [==============================] - 8s 9ms/step - loss: 0.1397 - val_loss: 0.9979\n",
      "Epoch 50/50\n",
      "957/957 [==============================] - 8s 9ms/step - loss: 0.1367 - val_loss: 0.9518\n"
     ]
    }
   ],
   "source": [
    "history = model.fit(trainX, trainY, epochs=50, batch_size=16, validation_split=0.1, verbose=1)\n"
   ]
  },
  {
   "cell_type": "code",
   "execution_count": 423,
   "id": "55ce0781",
   "metadata": {},
   "outputs": [],
   "source": [
    "testX = pd.read_csv(\"test.csv\")\n"
   ]
  },
  {
   "cell_type": "code",
   "execution_count": 441,
   "id": "58ed3e5a",
   "metadata": {},
   "outputs": [],
   "source": [
    "testX = testX[ ['assists',\n",
    "                                         'bonus',\n",
    "                                         'bps',\n",
    "                                         'clean_sheets',\n",
    "                                         'creativity',\n",
    "                                         'goals_conceded',\n",
    "                                         'goals_scored',\n",
    "                                         'ict_index',\n",
    "                                         'influence',\n",
    "                                         'minutes',\n",
    "                                         'opponent_team',\n",
    "                                         'own_goals',\n",
    "                                         'penalties_missed',\n",
    "                                         'penalties_saved',\n",
    "                                         'red_cards',\n",
    "                                         'saves',\n",
    "                                         'selected',\n",
    "                                         'team_a_score',\n",
    "                                         'team_h_score',\n",
    "                                         'threat',\n",
    "                                         'transfers_balance',\n",
    "                                         'transfers_in',\n",
    "                                         'transfers_out',\n",
    "                                         'value',\n",
    "                                         'was_home',\n",
    "                                         'yellow_cards']]"
   ]
  },
  {
   "cell_type": "code",
   "execution_count": 442,
   "id": "383b9940",
   "metadata": {},
   "outputs": [],
   "source": [
    "testX[\"was_home\"] = testX[\"was_home\"].astype(int)"
   ]
  },
  {
   "cell_type": "code",
   "execution_count": 443,
   "id": "97e2d444",
   "metadata": {},
   "outputs": [],
   "source": [
    "testXnp = np.asarray(testX)"
   ]
  },
  {
   "cell_type": "code",
   "execution_count": 444,
   "id": "e7c41d79",
   "metadata": {},
   "outputs": [
    {
     "data": {
      "text/plain": [
       "(38, 26)"
      ]
     },
     "execution_count": 444,
     "metadata": {},
     "output_type": "execute_result"
    }
   ],
   "source": [
    "testXnp.shape"
   ]
  },
  {
   "cell_type": "code",
   "execution_count": 446,
   "id": "413131e4",
   "metadata": {},
   "outputs": [],
   "source": [
    "testXnp = testXnp[0:10].reshape([1, 10, 26])"
   ]
  },
  {
   "cell_type": "code",
   "execution_count": 447,
   "id": "a624e6e7",
   "metadata": {},
   "outputs": [],
   "source": [
    "# testXnp = scaler.transform(testXnp)\n",
    "testXnp = scaler.transform(testXnp.reshape(-1, testXnp.shape[-1])).reshape(testXnp.shape)\n"
   ]
  },
  {
   "cell_type": "code",
   "execution_count": 448,
   "id": "13bc8707",
   "metadata": {},
   "outputs": [
    {
     "data": {
      "text/plain": [
       "(1, 10, 26)"
      ]
     },
     "execution_count": 448,
     "metadata": {},
     "output_type": "execute_result"
    }
   ],
   "source": [
    "testXnp.shape"
   ]
  },
  {
   "cell_type": "code",
   "execution_count": 437,
   "id": "49ae6e2b",
   "metadata": {},
   "outputs": [
    {
     "data": {
      "text/plain": [
       "array([[ 4.64155664e-16, -7.56635366e-16,  3.00000000e+00,\n",
       "         8.60740330e-15,  6.00000000e-01,  2.00000000e+00,\n",
       "        -2.22009919e-14,  1.90000000e+00,  4.00000000e-01,\n",
       "         9.00000000e+00,  1.20000000e+01, -3.17210737e-15,\n",
       "         3.60606092e-15,  1.06881322e-15,  3.36508516e-15,\n",
       "        -1.25778918e-14,  2.51360000e+04,  2.84156064e-15,\n",
       "         4.00000000e+00,  1.80000000e+01,  2.73596968e-17,\n",
       "         2.10479693e-16, -5.99908153e-17,  5.00000000e+01,\n",
       "         8.22145965e-16, -1.72971918e-14],\n",
       "       [ 4.64155664e-16, -7.56635366e-16,  1.60000000e+01,\n",
       "         8.60740330e-15,  5.29000000e+01,  3.00000000e+00,\n",
       "        -2.22009919e-14,  7.40000000e+00,  2.12000000e+01,\n",
       "         9.00000000e+01,  1.40000000e+01, -3.17210737e-15,\n",
       "         3.60606092e-15,  1.06881322e-15,  3.36508516e-15,\n",
       "        -1.25778918e-14,  2.78240000e+04,  2.00000000e+00,\n",
       "         3.00000000e+00,  1.39914941e-14, -1.51500000e+03,\n",
       "         9.45000000e+02,  2.46000000e+03,  5.00000000e+01,\n",
       "         8.22145965e-16, -1.72971918e-14],\n",
       "       [ 4.64155664e-16, -7.56635366e-16,  1.10000000e+01,\n",
       "         8.60740330e-15,  1.60000000e+00,  3.00000000e+00,\n",
       "        -2.22009919e-14,  2.40000000e+00,  1.12000000e+01,\n",
       "         9.00000000e+01,  1.30000000e+01, -3.17210737e-15,\n",
       "         3.60606092e-15,  1.06881322e-15,  3.36508516e-15,\n",
       "        -1.25778918e-14,  2.84640000e+04,  2.84156064e-15,\n",
       "         3.00000000e+00,  1.10000000e+01, -2.69000000e+02,\n",
       "         2.32300000e+03,  2.59200000e+03,  5.00000000e+01,\n",
       "         8.22145965e-16, -1.72971918e-14],\n",
       "       [ 4.64155664e-16, -7.56635366e-16,  2.30000000e+01,\n",
       "         1.00000000e+00,  4.71000000e+01,  3.39543667e-14,\n",
       "        -2.22009919e-14,  6.20000000e+00,  1.42000000e+01,\n",
       "         9.00000000e+01,  8.00000000e+00, -3.17210737e-15,\n",
       "         3.60606092e-15,  1.06881322e-15,  3.36508516e-15,\n",
       "        -1.25778918e-14,  2.89770000e+04,  2.84156064e-15,\n",
       "         2.00000000e+00,  1.00000000e+00, -3.38000000e+02,\n",
       "         2.79300000e+03,  3.13100000e+03,  5.00000000e+01,\n",
       "         1.00000000e+00, -1.72971918e-14],\n",
       "       [ 4.64155664e-16,  3.00000000e+00,  3.00000000e+01,\n",
       "         1.00000000e+00,  3.43000000e+01,  3.39543667e-14,\n",
       "        -2.22009919e-14,  4.60000000e+00,  1.12000000e+01,\n",
       "         9.00000000e+01,  1.90000000e+01, -3.17210737e-15,\n",
       "         3.60606092e-15,  1.06881322e-15,  3.36508516e-15,\n",
       "        -1.25778918e-14,  3.03550000e+04,  2.84156064e-15,\n",
       "         1.34672226e-15,  1.39914941e-14,  9.05000000e+02,\n",
       "         3.13600000e+03,  2.23100000e+03,  5.00000000e+01,\n",
       "         8.22145965e-16, -1.72971918e-14],\n",
       "       [ 4.64155664e-16, -7.56635366e-16,  5.00000000e+00,\n",
       "         8.60740330e-15,  1.43000000e+01,  3.00000000e+00,\n",
       "        -2.22009919e-14,  2.80000000e+00,  1.14000000e+01,\n",
       "         9.00000000e+01,  1.70000000e+01, -3.17210737e-15,\n",
       "         3.60606092e-15,  1.06881322e-15,  3.36508516e-15,\n",
       "        -1.25778918e-14,  3.50590000e+04,  3.00000000e+00,\n",
       "         2.00000000e+00,  2.00000000e+00,  3.30900000e+03,\n",
       "         6.03700000e+03,  2.72800000e+03,  5.00000000e+01,\n",
       "         1.00000000e+00, -1.72971918e-14],\n",
       "       [ 4.64155664e-16, -7.56635366e-16,  2.70000000e+01,\n",
       "         1.00000000e+00,  3.38000000e+01,  3.39543667e-14,\n",
       "        -2.22009919e-14,  5.70000000e+00,  2.28000000e+01,\n",
       "         9.00000000e+01,  1.60000000e+01, -3.17210737e-15,\n",
       "         3.60606092e-15,  1.06881322e-15,  3.36508516e-15,\n",
       "        -1.25778918e-14,  5.92700000e+04,  2.84156064e-15,\n",
       "         1.00000000e+00,  1.39914941e-14,  2.27760000e+04,\n",
       "         2.67200000e+04,  3.94400000e+03,  5.00000000e+01,\n",
       "         1.00000000e+00, -1.72971918e-14],\n",
       "       [ 4.64155664e-16, -7.56635366e-16,  8.00000000e+00,\n",
       "         8.60740330e-15,  1.30000000e+00,  1.00000000e+00,\n",
       "        -2.22009919e-14,  8.00000000e-01,  6.40000000e+00,\n",
       "         9.00000000e+01,  4.00000000e+00, -3.17210737e-15,\n",
       "         3.60606092e-15,  1.06881322e-15,  3.36508516e-15,\n",
       "        -1.25778918e-14,  6.17250000e+04,  1.00000000e+00,\n",
       "         1.00000000e+00,  1.39914941e-14,  1.36400000e+03,\n",
       "         7.45300000e+03,  6.08900000e+03,  5.00000000e+01,\n",
       "         8.22145965e-16, -1.72971918e-14],\n",
       "       [ 4.64155664e-16, -7.56635366e-16,  8.03273732e-15,\n",
       "         8.60740330e-15, -3.45379163e-15,  3.39543667e-14,\n",
       "        -2.22009919e-14,  3.67311958e-14, -3.30915693e-14,\n",
       "        -1.09142097e-14,  3.00000000e+00, -3.17210737e-15,\n",
       "         3.60606092e-15,  1.06881322e-15,  3.36508516e-15,\n",
       "        -1.25778918e-14,  7.04210000e+04,  3.00000000e+00,\n",
       "         1.34672226e-15,  1.39914941e-14,  7.98600000e+03,\n",
       "         1.06520000e+04,  2.66600000e+03,  5.00000000e+01,\n",
       "         1.00000000e+00, -1.72971918e-14],\n",
       "       [ 1.00000000e+00, -7.56635366e-16,  1.50000000e+01,\n",
       "         8.60740330e-15,  1.12000000e+01,  3.39543667e-14,\n",
       "        -2.22009919e-14,  3.70000000e+00,  2.36000000e+01,\n",
       "         4.50000000e+01,  6.00000000e+00, -3.17210737e-15,\n",
       "         3.60606092e-15,  1.06881322e-15,  3.36508516e-15,\n",
       "        -1.25778918e-14,  6.14760000e+04,  2.00000000e+00,\n",
       "         2.00000000e+00,  2.00000000e+00, -9.16900000e+03,\n",
       "         1.21300000e+03,  1.03820000e+04,  5.00000000e+01,\n",
       "         8.22145965e-16, -1.72971918e-14]])"
      ]
     },
     "execution_count": 437,
     "metadata": {},
     "output_type": "execute_result"
    }
   ],
   "source": [
    "testXnp"
   ]
  },
  {
   "cell_type": "code",
   "execution_count": 449,
   "id": "a79de1fe",
   "metadata": {},
   "outputs": [],
   "source": [
    "testXnp = testXnp.reshape([1, 10, 26])"
   ]
  },
  {
   "cell_type": "code",
   "execution_count": 417,
   "id": "b1b64d6b",
   "metadata": {},
   "outputs": [
    {
     "name": "stdout",
     "output_type": "stream",
     "text": [
      "[[24.]]\n"
     ]
    }
   ],
   "source": [
    "# type(trainX)\n",
    "\n",
    "print(scaler2.inverse_transform(trainY[6523].reshape((-1, 1))))"
   ]
  },
  {
   "cell_type": "code",
   "execution_count": 418,
   "id": "424f5393",
   "metadata": {},
   "outputs": [],
   "source": [
    "hmm = trainX[6523].reshape([1, 10, 26])"
   ]
  },
  {
   "cell_type": "code",
   "execution_count": 450,
   "id": "e3bd4681",
   "metadata": {},
   "outputs": [
    {
     "name": "stdout",
     "output_type": "stream",
     "text": [
      "1/1 [==============================] - 0s 30ms/step\n"
     ]
    }
   ],
   "source": [
    "prediction = model.predict(testXnp) #shape = (n, 1) where n is the n_days_for_prediction\n"
   ]
  },
  {
   "cell_type": "code",
   "execution_count": 451,
   "id": "a845b899",
   "metadata": {},
   "outputs": [],
   "source": [
    "prediction = scaler2.inverse_transform(prediction)"
   ]
  },
  {
   "cell_type": "code",
   "execution_count": 452,
   "id": "2446497a",
   "metadata": {},
   "outputs": [
    {
     "data": {
      "text/plain": [
       "array([[1307.6477]], dtype=float32)"
      ]
     },
     "execution_count": 452,
     "metadata": {},
     "output_type": "execute_result"
    }
   ],
   "source": [
    "prediction"
   ]
  },
  {
   "cell_type": "code",
   "execution_count": 416,
   "id": "d294db56",
   "metadata": {},
   "outputs": [
    {
     "data": {
      "text/plain": [
       "array([6523], dtype=int64)"
      ]
     },
     "execution_count": 416,
     "metadata": {},
     "output_type": "execute_result"
    }
   ],
   "source": [
    "np.where(scaler2.inverse_transform(trainY.reshape((-1, 1))) == 24)[0]\n"
   ]
  },
  {
   "cell_type": "code",
   "execution_count": null,
   "id": "26e4903c",
   "metadata": {},
   "outputs": [],
   "source": []
  }
 ],
 "metadata": {
  "kernelspec": {
   "display_name": "Python 3 (ipykernel)",
   "language": "python",
   "name": "python3"
  },
  "language_info": {
   "codemirror_mode": {
    "name": "ipython",
    "version": 3
   },
   "file_extension": ".py",
   "mimetype": "text/x-python",
   "name": "python",
   "nbconvert_exporter": "python",
   "pygments_lexer": "ipython3",
   "version": "3.11.2"
  }
 },
 "nbformat": 4,
 "nbformat_minor": 5
}
